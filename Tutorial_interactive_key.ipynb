{
 "cells": [
  {
   "cell_type": "markdown",
   "metadata": {},
   "source": [
    "# Tutorial for *CYCLUS*: Nuclear Fuel Cycle Simulator \n",
    "\n",
    "<img src=\"img/cyclus_img.gif\" width=\"400\">\n",
    "## [*CYCLUS*](http://fuelcycle.org/) Introduction\n",
    "*CYCLUS* is an open source nuclear fuel cycle simulation platform whose  genesis was driven by a variety of gaps seen in previous fuel cycle simulation efforts, which attempted to address three major design and development philosophies:\n",
    "- A desire for usability, thus developing a tool which begins with a simple model in a visual development environment that aims to provide an intuitive user interface\n",
    "- A desire for rapid prototyping, thus developing a tool which begins with simple models in a scripting language that allows for quick answers to early problems \n",
    "- A desire for detail/fidelity, thus developing a tool with an ad-hoc combination of existing complex analysis tools \n",
    "\n",
    "http://fuelcycle.org/basics/index.html\n",
    "\n",
    "\n",
    "## Fundamental Concepts in Cyclus\n",
    "Several fundamental concepts are deeply engrained in the Cyclus kernel, and understanding them is important for users and developers of Cyclus.\n",
    "\n",
    "The following concepts are defined in more detail below:\n",
    "   - Cyclus is an agent-based simulation\n",
    "   - agents are either regions, institutions, or facilities\n",
    "   - Cyclus tracks the evolution of a system over time\n",
    "   - agents interact through a dynamic resource exchange that is recomputed at each time step\n",
    "   - Cyclus catalogs the transactions of discrete quanta of resources\n",
    "   - agents may enter or leave the simulation over the lifetime of a simulation\n",
    "   - each agent is deployed as a clone of a prototype\n",
    "   - each prototype is defined as a configuration an archetype\n",
    "   - archetypes are loaded dynamically at runtime and can be contributed by any user/developer\n",
    "\n",
    "### Agent-Simulation\n",
    "\n",
    "A Cyclus simulation models a system of discrete agents that interact to exchange resources. Most of the behavior of a Cyclus simulation is the result of the interaction among a set of individual and nominally independent agents. By using an agent-based\n",
    "framework, *CYCLUS* tracks the transformation\n",
    "and trade of resources between autonomous regional\n",
    "and institutional entities with customizable behav-\n",
    "ior and objectives.  \n",
    "\n",
    "### Region, Institution, Facility Hierarchy¶\n",
    "The primary agent interaction is among Facility agents, each representing a single discrete nuclear fuel cycle facility.\n",
    "\n",
    "Each Facility agent is owned/operated by an Institution agent, representing a legal operating organization such as a utility, government, non-governmental organization, etc. Institution agents are responsible for deploying and decommissioning Facility agents.\n",
    "\n",
    "Each Institution operates in a Region agent, representing a geopolitical region such as a nation-state, sub-national state, super-national region, etc. Region agents are responsible for requesting the deployment of additional Facilities through their Institutions.\n",
    "\n",
    "Institution and Region agents can alter the way that their Facility agents interact with other Facility agents.\n",
    "Through the use of agents and its user-customizable archetypes (called prototypes), cyclus  allows for freedom in fidelity, depth, and focus of the simulation.\n",
    "\n",
    "### Tracking the Fuel Cycle Over Time¶\n",
    "\n",
    "A Cyclus simulation marches through time with a fixed time step. At each time step, the system itself may change and the dynamic resource exchange is recomputed.\n",
    "\n",
    "### Agent Deployment and Decommissioning¶\n",
    "\n",
    "Facility agents can be deployed or decommissioned at each time step, changing the system that is being modeled through the dynamic resource exchange. The decision of when to deploy new facility agents and which agents to deploy is made by the institution agents based on user input. Agents may be decommissioned either because they reach their lifetime or because a decision to decommission is made by the institution that operates them.\n",
    "### Agent Prototypes¶\n",
    "Each agent in the simulation is deployed as a clone of a prototype. A prototype is formed by adding user-defined configuration details to an archetype.\n",
    "### Agent Archetypes\n",
    "Agent archetypes define the logic that governs the behavior of an agent. An archetype may allow a user to define some parameters that influence that behavior. Broadly speaking, the behavior of an agent can be divided into the behavior that represents the physical models of the system and the behavior that represents the interaction of the agent with other agents.\n",
    "### Run-time Discovery and Loading of Archetypes\n",
    "To maximize the flexibility of the Cyclus infrastructure, is has been designed to allow the addition of new archetypes without having to make any changes to the Cyclus kernel. Therefore, the kernel has no prior knowledge of archetypes or their behavior other than how they are deployed/decommissioned and how they interact with the dynamic resource exchange. For this reason, every Cyclus simulation must find and load the archetypes requested by the user.\n",
    "\n",
    "\n",
    "### Dynamic Resource Exchange¶\n",
    "Facility agents interact through the dynamic resource exchange by submitting requests for resources and/or receiving bids to provide those resources. All facilities that request resources can then establish their preferences across the set of bids they receive and the global set of preferences is used to resolve the exchange by maximizing the global preference.\n",
    "\n",
    "### Discrete Resource Tracking¶\n",
    "The outcome of the dynamic resource exchange is a set of transactions of discrete resources, with specific quantities and identities, between specific facility agents. These discrete resources can be tracked through their life cycle by their identities.\n",
    "\n",
    "### Cycamore\n",
    "\n",
    "Cycamore, the *CYCLUS* additional module repository, provides a fundamental set of dynamically loadable libraries providing agent archetypes for basic simulation functionality within *CYCLUS*. Since *CYCLUS* relies on external archetypes to represent the agents within a  simulation, Cycamore provides  the  basic archetypes a new user needs to get started running simple simulations. These archetypes support a minimal set of fuel cycle simulation goals and provide, by example, a guide to new developers who would seek to contribute their own archetypes such as *Cyborg*, *Brightlite*, and *Recycle*, outside of Cycamore. "
   ]
  },
  {
   "cell_type": "markdown",
   "metadata": {},
   "source": [
    "\n",
    "## ❖ **Learning Objectives**\n",
    "### 1.  Learn the principles of *CYCLUS* input files\n",
    "### 2.  Write a *CYCLUS* input file \n",
    "### 3.  Use *CYCLUS* to simulate your input file\n",
    "### 4.  Utilize cyutils (*CYCLUS* analysis package) to analyze the *CYCLUS* output file\n"
   ]
  },
  {
   "cell_type": "markdown",
   "metadata": {},
   "source": [
    "# Table of contents\n",
    "- How to build a *CYCLUS* input file\n",
    "    - Simulation Control\n",
    "    - Fuel Composition\n",
    "    - Region\n",
    "    - Reactor\n",
    "    - Main Input \n",
    "- Exercise 1: Writing the Input file \n",
    "    - Simulation Control\n",
    "    - Fuel Composition\n",
    "    - Region\n",
    "    - Reactor\n",
    "    - Main Input \n",
    "- Exercise 2: Running the *CYCLUS* simulation"
   ]
  },
  {
   "cell_type": "markdown",
   "metadata": {},
   "source": [
    "# How to build a *CYCLUS* input file\n",
    "\n",
    "This tutorial will begin with a simple exercise using Cycamore archetypes to familiarize the user with [creating input files](http://fuelcycle.org/user/writing_input.html) (in xml) and accessing data from the SQLite database output. \n",
    "    \n",
    "\n",
    "## Structure of a *CYCLUS* input file\n",
    "In a *CYCLUS* input file, although not all sections are required, the following sections may appear in any order in the input file:\n",
    "\n",
    " - Control - Simulation Control (required once)\n",
    " - Commodity - Commodity Priority (optional, may appear multiple times)\n",
    " - Archetype - List of available agent archetypes (required once)\n",
    " - Facility - Facility Prototypes (at least one required)\n",
    " - Region - Region agents (at least one required)\n",
    " - Institution - Institution agents (at least one required in each Region)\n",
    " - Recipe - Recipe Definition (optional, may appear multiple times)\n",
    "\n",
    "\n",
    "### Simulation Control:\n",
    "Simulation control are parameters that set duration, start month, start year, and decay of the simulation. \n",
    "*CYCLUS* works in timesteps of 1 month by default. At each time step, *CYCLUS* implements  an  agent-based  modeling\n",
    "paradigm, in which each agent can take particular actions such as:\n",
    "-  [Deployment](http://fuelcycle.org/basics/concepts.html?highlight=deployed#agent-deployment-and-decommissioning): New agents enter the fuel cycle\n",
    "-  An agent prepares for material exchange\n",
    "-  The material trade between two agents occurs\n",
    "-  The agents use material after the exchange\n",
    "-  [Decommissioning](http://fuelcycle.org/basics/concepts.html?highlight=decommissioned#agent-deployment-and-decommissioning): Agents leave the fuel cycle\n",
    "<br>\n",
    "\n",
    "*CYCLUS* will manage these interactions automatically, but the user must give:\n",
    "-  The duration (in months)\n",
    "-  The start month (e.g.: 1 for January)\n",
    "-  The start year\n",
    "-  [Decay](http://fuelcycle.org/devdoc/decay.html): The Cyclus kernel has built-in experimental support for decay calculations.  Materials store the time since their last decay and agents are free to invoke the decay function on them as desired to decay them to the current simulation time. Cyclus can operate in 3 decay modes, with 1 additional mode likely to be added in a future release:  \n",
    "     - 'never' if all decay is turned off \n",
    "     - 'manual', meaning it is only on if the individual archetype decays their own inventory\n",
    "     - lazy', which will compute decay only when archetypes fetch a particular composition.\n",
    "     - 'periodic'  (future)  automatically  decays  all materials in a simulation with some fixed frequency.\n",
    "<br>\n",
    "\n",
    "There are other [optional parameters](http://fuelcycle.org/user/input_specs/control.html) that could be given.\n",
    "\n",
    "An example of a basic Simulation Control XML file is given below where the `startyear` is 2007, the `startmonth` is 11 (November), `duration` is 1200 (1200 months, 100 years), the length of a `timestep` is 1 day, and `decay` is set to lazy. <img src=\"img/sim_control.png\" width=\"500\">\n"
   ]
  },
  {
   "cell_type": "markdown",
   "metadata": {},
   "source": [
    "### Region-Instituion-Facility hierarchy\n",
    "\n",
    "Region-Instituion-Facility hierarchy (RIF) is the fundamental order of responsibility and tranactions that occur in a *CYCLUS* simulation. In other words, RIF hierarchies form a\n",
    "directed acyclic graph (DAG)\n",
    ", with regions as root\n",
    "nodes and facilities as leaf nodes.\n",
    "<img src=\"img/RIF.png\" width=\"500\">\n",
    "\n",
    "\n",
    "For instance, one may wish to account for the presence of a contract between two facilities, or one may wish to model two facilities oper-\n",
    "ated by the same entity. Accordingly, *CYCLUS*\n",
    "implements this ability via a Region-Instituion-Facility hierarchy. Every\n",
    "discrete facility in *CYCLUS* is considered to be owned by an\n",
    "institution that operates in a geographic region. An institution\n",
    "can be used to represent any entity that may own and operate a\n",
    "facility such as a private corporation, a government agency, or\n",
    "a non-governmental organization, among others. A region can\n",
    "be used to represent any geographic area, typically a politically\n",
    "relevant area such a sub-national region (e.g. a U.S. State), a\n",
    "nation-state, or a supranational region (e.g. the E.U.). While\n",
    "some performance parameters of the facility may depend on\n",
    "its institutional ownership or geographical location, this capa-\n",
    "bility is more useful in modeling the way in which a facility\n",
    "engages in a market for trade of nuclear material based on its\n",
    "ownership entity and/or region."
   ]
  },
  {
   "cell_type": "markdown",
   "metadata": {},
   "source": [
    "### Region \n",
    "In *CYCLUS* input files, each region block defines an agent that acts as a region in the simulation. Each region block has the following sections in any order:\n",
    "\n",
    "   - `name` (required once) - a name for the prototype\n",
    "   - `lifetime` (optional once) - a non-negative integer indicating the number of time steps that this region agent will be active in the simulation\n",
    "   - `config` (required once) - the archetype-specific configuration\n",
    "   - `institution` (required at least once ) - an institution agent operating in this region\n",
    "\n",
    "The example below introduces two region agents. The first region agent has the name *MyHomeRegion*, and is configured from the archetype with the name (or alias) *NullRegion*. The author of the `NullRegion` archetype has defined no archetype-specific data. The second has the name `MyNeighborRegion` and is based on the archetype with the name (or alias) GrowthRegion. The contents of the `GrowthRegion` section are defined by the author of the *GrowthRegion* archetype.\n",
    "<img src=\"img/region.png\" width=\"550\">\n"
   ]
  },
  {
   "cell_type": "markdown",
   "metadata": {},
   "source": [
    "### Institution  - Institution agents (at least one required in each Region)\n",
    "In *CYCLUS* input files, each institution block defines an agent that acts as an institution in the simulation. An institution block can only appear within a region block. Each institution block has the following sections in any order:\n",
    "\n",
    "   - `name` (required once) - a name for the prototype\n",
    "   - `lifetime` (optional once) - a non-negative integer indicating the number of time steps that this region agent will be active in the simulation\n",
    "   - `config` (required once) - the archetype-specific configuration\n",
    "   - `initialfacilitylist` (optional, may appear multiple times) - a list of facility agents operating at the beginning of the simulation\n",
    "\n",
    "Each `initialfacilitylist` block contains one or more `entry` blocks that each contain the following sections, in the following order:\n",
    "\n",
    "   - `prototype` - the name of a facility prototype defined elsewhere in the input file\n",
    "   - `number` - the number of such facilities that are operating at the beginning of the simulation\n",
    "\n",
    "\n",
    "The example below introduces two institution agents. This example introduces two institution agents (the region section that encloses them is not shown). The first institution has the name *SingleInstitution*, and is configured from the archetype with the name (or alias) *NullInst*. The author of the `NullInst` archetype has defined no archetype-specific data. This agent begins the simulation with two facility agents, one based on the `FacilityA` prototype and another based on the `FacilityB` prototype. The second institution has the name *AnotherInstitution*, is also configured from the archetype with the name (or alias) `NullInst`. This institution has no initial facilities.\n",
    "\n",
    "<img src=\"img/inst.png\" width=\"350\">"
   ]
  },
  {
   "cell_type": "markdown",
   "metadata": {},
   "source": [
    "### Facility  - Facility PrototypesInstitution agents (at least one required)\n",
    "In *CYCLUS* input files, each facility block defines a single prototype for an agent that acts as a facility in the simulation. Each facility block has the follwoing sections in any order:\n",
    "\n",
    "   - `name` (required once) - a name for the prototype\n",
    "   - `lifetime` (optional once) - a non-negative integer indicating the number of time steps that this region agent will be active in the simulation\n",
    "   - `config` (required once) - the archetype-specific configuration\n",
    "\n",
    "The example below introduces two facility prototypes.  The first has the name *LongTermStorage*, and is configured from the archetype with the name (or alias) *Sink*. The contents of the `Sink` section are defined by the author of the *Sink* archetype. The second has the name *PBMR*, has a lifetime of 720 time steps (60 years) and is based on the archetype with the name (or alias) *RecipeReactor*. The contents of the `RecipeReactor` section are defined by the author of the *RecipeReactor* archetype.\n",
    "\n",
    "<img src=\"img/facility.png\" width=\"600\">"
   ]
  },
  {
   "cell_type": "markdown",
   "metadata": {},
   "source": [
    "### Archetypes:\n",
    "One of the features of *CYCLUS* is its ability to switch between different models of the facilities within the fuel cycle.  These models, called **archetypes**, may change how the facility interacts with other facilities or how the physics of the facility are represented.\n",
    "<br><br>\n",
    "For example, reactor archetypes detemine the reactor's fresh and spent fuel compostions and how the reactor experiences fuel burnup. A very simple reactor archetypes might only input the reactors fuel recipes and their compositions. A more complex model may tabulate reactor performance and physics parameters, and interpolate its input and output recipes. The most complex model could perform a full depletion calculation each time new fuel enters the reactor.\n",
    "<br><br>\n",
    "A simple set of archetypes have been created in [Cycamore](http://fuelcycle.org/user/cycamoreagents.html).  They are a good fit for simple tutorials, or for modeling facilities that are required, but not the focus of the simulation.  The Cycamore archetypes include:\n",
    "-  [Source](http://fuelcycle.org/user/cycamoreagents.html?highlight=source#cycamore-source): This is a generic source of fresh material.  This could be an uranium mine, an enrichment facility, or even a fabrication facility, depending on how explicitly the user wants to model the front-end of the fuel cycle.\n",
    "-  [Enrichment](http://fuelcycle.org/user/cycamoreagents.html?highlight=enrichment#cycamore-enrichment): This archetype uses the standard equations for enrichment of U-235, and has a limit on total enrichment capacity.\n",
    "-  [Reactor](http://fuelcycle.org/user/cycamoreagents.html?highlight=reactor#cycamore-reactor): This facility takes set input and output fuel recipes, and loads new assemblies at regular intervals.\n",
    "-  [Separations](http://fuelcycle.org/user/cycamoreagents.html?highlight=separations#cycamore-separations): This facility splits all the isotopes in its input stream into separate output streams.\n",
    "-  [FuelFab](http://fuelcycle.org/user/cycamoreagents.html?highlight=fuelfab#cycamore-fuelfab): This archetype uses the d-factor approach to mix streams of fissile and fissionable material and approximate a given recipe.\n",
    "-  [Sink](http://fuelcycle.org/user/cycamoreagents.html?highlight=sink#cycamore-sink):  This is a generic sink for any facility that will permanently hold nuclear material.  This could be an interim storage facility, a geological repository, or other long-term disposal methods a user may want to model.\n",
    "Every agent that participates in a Cyclus simulation is based on a prototype that is formed by configuring an archetype. The archetypes block defines the set of archetypes that are available to a simulation, and provides specifications that uniquely identify each archetype.\n",
    "A single `archetypes` block is required, and contains one or more `spec` blocks. Each `spec` block has these blocks in the following order:\n",
    "\n",
    "   - `path` (optional) - a slash-separated path\n",
    "   - `lib` (optional) - a library name\n",
    "   - `name` (required) - a name\n",
    "   - `alias` (optional) - a alternative name for the archetype\n",
    "   \n",
    "In addition to the unambiguous specification (as defined in [Archetype Identification and Discovery](http://fuelcycle.org/user/find_agents.html)) formed by the path, lib, and name, the alias provides an alternative name by which to refer to the archetype elsewhere in the file. If an alias is defined, it is the only way to refer to that archetype in other locations.    \n",
    "\n",
    "The example below introduces four different archetypes into the simulation to be used elsewhere when defining agent prototypes. The first archetype is named *myFirstReactorAgent*, found in a library file such as *libmyAgentCollection.so* (on linux), in the filesystem path *my/custom/path*. All references to this archetype will use the alias *ReactorAgent*. The other archetypes are named *simpleSource*, *simpleRegion*, and *simpleInst*, all of which are found in standard locations defined in Archetype Identification and Discovery. For example, *simpleSource* will be found in a library file with a name such as *libsimpleSource.so*, in the standard Cyclus archetype path.\n",
    "<img src=\"img/arch.png\" width=\"400\">\n",
    "\n"
   ]
  },
  {
   "cell_type": "markdown",
   "metadata": {},
   "source": [
    "### Commodities:\n",
    "\n",
    "*CYCLUS* models resource transactions through the use of the [dynamic resource exchange](http://fuelcycle.org/arche/dre.html), or DRE.  A [commodity](http://fuelcycle.org/user/input_specs/commodity.html) is a resource that agents in the simulation want to exchange with each other.  \n",
    "Agents define both the quantity of a commodity they need to consume as well as the target isotopics, or quality, by posting their\n",
    "demand to the market exchange as a series of\n",
    "requests. Users may optionally parameterize the agent to associate a collection of demand constraints with each collection of requests.  Collections of requests may be grouped together, denoting\n",
    "mutual requests that represent demand for some common purpose.\n",
    "For example, a reactor may request UOX and MOX\n",
    "fuel mutually, indicating that either will satisfy its\n",
    "demand for fuel. Another example would be a reactor sending its spent-UOX fuel to a nuclear waste repository. \n",
    "\n",
    "\\begin{gather*} \\textrm{Reactor} \\end{gather*} | | \\begin{gather*} \\textrm{Spent Fuel} \\end{gather*}| |\\begin{gather*} \\textrm{Repository} \\end{gather*}\n",
    ":-------------------------:|:----:|:-------------------------:\n",
    "<img src=\"img/nuclear_reactor.png\" width=\"300\"> | \\begin{gather*} \\xrightarrow{} \\end{gather*} | <img src=\"img/nuclear_waste.jpg\" width=\"150\"> | \\begin{gather*} \\xrightarrow{} \\end{gather*} |  <img src=\"img/nuclear_repository.png\" width=\"300\">\n",
    "<br>\n",
    "\n",
    "Suppliers then respond to the series of requests with a bid .  A bid supplies a notion of the quantity and quality of a resource to match a request.  Sup- pliers may add an arbitrary number of constraints to accompany bids.  For example, an enriched UOX supplier may be constrained by its current inventory of natural uranium or its total capacity to provide enrichment in Separative Work Units (SWUs).  It attaches such constraints to its bids.\n",
    "\n",
    "Any potential resource transfer, i.e., a bid or a\n",
    "request, may be denoted as exclusive. An exclusive transfer excludes partial fulfilment; it must either be met fully or not at all.  This mode supports concepts such as the trading of individual reactor assemblies. In combination with the notion of mutual requests, complex  instances  of  supply  and  demand  are  en- abled. Finally,  requesting  facilities,  institutions  and regions  may  apply preferences to  each  potential request-bid pairing based on the proposed resource transfer.  Facilities can apply arbitrary complex logic to rank the bids that they have received, whether based on the quantity available in each bid or on the quality of each bid, and the consequent implications of the physics behavior of that facility.  In addition, an institution can apply a higher preference to a partner to which it is congenial; similarly, a region may negate any transfers of material which have a higher uranium enrichment than is allowable. \n",
    "\n",
    "For example, the flow graph below shows three suppliers (left) and two requesters (right), and  the  potential  flows  of  various commodities  among  them.   The  second  consumer  makes two different requests.  Meanwhile, the second supplier can supply the commodities requested by both consumers and has provided two bids accordingly.\n",
    "<img src=\"img/trade.png\" width=\"350\">\n",
    "\n",
    "Defining a commodity gives no information about its composition - that is done by defining [recipes](fuelcycle.org/user/input_specs/recipe.html). \n",
    "\n",
    "The commodity input block is only used to indicate a non-default priority for a particular commodity in the dynamic resource exchange solution.\n",
    "\n",
    "A commodity block has the following sections in the following order:\n",
    "   - `name` (required) - the unique name for this commodity\n",
    "   - `solution_priority` (required once) - a number that defines the relative priority for resolution in the dynamic resource exchange (Default: -1)\n",
    "\n",
    "The example below shows two commodities, `enriched_u` and `waste` with explicit priorities 5.5 and 4.5 respectfully. Note that these particular names do not imply any specific composition of the commodity; this will be determined later by the facilities that trade in these commodities.\n",
    "<img src=\"img/commodity.png\" width=\"400\"> \n",
    "\n",
    "Tracking a commodity by the truckload is currently in development. \n",
    "#### Tracking commodities: \n",
    "- tracking truckloads... diversion "
   ]
  },
  {
   "cell_type": "markdown",
   "metadata": {},
   "source": [
    "### Creating recipes:\n",
    "\n",
    "Whenever *CYCLUS* needs to know the composition of a material, it looks at the recipe for that material given in the input file.  Until now, \"recipe\" has been used to refer to fuel recipes, but the \"recipe\" section of the input file can include the recipe for natural uranium, spent fuel, fresh fuel, or any other material where the isotopic composition needs to be tracked.\n",
    "<br><br>"
   ]
  },
  {
   "cell_type": "markdown",
   "metadata": {},
   "source": [
    "# Excerise 1\n",
    "### Writing a *CYCLUS* input file:\n",
    "This first exercise will model a very simple scenario:\n",
    "-  There is a single uranium mine\n",
    "-  One enrichment facility producing UOX fuel\n",
    "-  One LWR, with a 1000 MWe capacity\n",
    "-  One repository, which takes SNF\n",
    "-  This is an open fuel cycle, there is no reprocessing or MOX fuel.\n",
    "<br/><br/>\n",
    "\n",
    "\\begin{gather*} \n",
    "\\textrm{Uranium Mine} \\xrightarrow{\\textrm{Natural Uranium}} \\textrm{Enrichment Facility} \\xrightarrow{\\textrm{Fresh UOX Fuel}} \\textrm{Reactor} \\xrightarrow{\\textrm{Spent Nuclear Fuel}} \\textrm{Repository}\n",
    "\\end{gather*} "
   ]
  },
  {
   "cell_type": "markdown",
   "metadata": {},
   "source": [
    "<div class=\"alert alert-warning\">\n",
    "**Programming**\n",
    "<br/><br/>\n",
    "Throughout this tutorial, there will be cells of code mixed into the explanations.  Some of these will need information entered before they are run - a comment at the beginning of the cell will tell you.  If you are unfamiliar with Jupyter notebook, you can run a cell by selecting it, and using shift+enter or ctrl+enter (selected cells will have a blue or green line around them).  Please do not run all cells at once.\n",
    "</div>"
   ]
  },
  {
   "cell_type": "markdown",
   "metadata": {},
   "source": [
    "<div class=\"alert alert-warning\">\n",
    "**A Note On Input Files**\n",
    "<br/>\n",
    "\n",
    "There are multiple ways to create a *CYCLUS* input file.  This tutorial uses the jinja2 template library and .xml templates to create its input.  More detail will be given later, but for now, know that some parts of the archetypes (such as the name of the enrichment facility) are already included in the templates provided for the tutorial.  Beyond this lesson, it is possible to use or create other templates and tweak these \"preloaded\" details. </div>"
   ]
  },
  {
   "cell_type": "markdown",
   "metadata": {},
   "source": [
    "## Importing necessary packages\n",
    "\n",
    "To begin, let's import the necessary packages."
   ]
  },
  {
   "cell_type": "code",
   "execution_count": 1,
   "metadata": {},
   "outputs": [
    {
     "name": "stdout",
     "output_type": "stream",
     "text": [
      "Usage: python write_input.py [csv][init_date] [duration] [output_file_name]\n",
      "Usage: python write_input.py [csv][init_date] [duration] [output_file_name]\n"
     ]
    }
   ],
   "source": [
    "from pyne import nucname\n",
    "import cyutils\n",
    "from cyutils import analysis\n",
    "from cyutils import write\n",
    "from cyutils import economics\n",
    "import matplotlib.pyplot as plt\n",
    "import numpy as np\n",
    "from numpy import isclose\n",
    "import write_input as wr\n",
    "import matplotlib.pyplot as plt"
   ]
  },
  {
   "cell_type": "markdown",
   "metadata": {},
   "source": [
    "### Simulation control\n",
    "Let's begin by choosing our simulation control.\n",
    "\n",
    "The simulation control setting we will use for this simulation are given in the table below.\n",
    "\n",
    "The lifetime of a *CYCLUS* simulation is determined by its **`duration`**. **`duration`** is the number of months *CYCLUS* will model the fuel cycle. *CYCLUS* also intakes the **`start_month`** and **`start_year`** of the simulation. \n",
    "The last major parameter of the simulation is whether or not we wish to model the **[`decay`](http://fuelcycle.org/devdoc/decay.html)** of the radioactive elements (uranium ore, nuclear fuel, & spent nuclear fuel) in the simulation. For simplicity, we will not model decay in this tutorial. \n",
    "\n",
    "<div class=\"alert alert-info\">\n",
    "**Interactive Input**\n",
    "<br/>\n",
    "Using the table below, create the following variables.  Include appropriate comments.\n",
    "</div>\n",
    "\n",
    "| Variable | Value  | Purpose |\n",
    "| -------- | ------ | ------- |\n",
    "| `duration`      | `720`  | length of simulation (months) |\n",
    "| `start_month`      | `1` | start month of simulation |\n",
    "| `start_year`     | `2018` | start year of simulation |\n",
    "| `decay`   | `'never'`  | radioactive decay |\n"
   ]
  },
  {
   "cell_type": "code",
   "execution_count": 2,
   "metadata": {},
   "outputs": [],
   "source": [
    "'''\n",
    "Initialize all variables given from the table.\n",
    "'''\n",
    "duration = 720 # length of simulation (months)\n",
    "start_month = 1 # start month of simulation\n",
    "start_year = 2018 # start year of simulation\n",
    "decay = 'never' # radioactive decay\n",
    "\n",
    "simulation_parameters = [duration,start_month,start_year,decay]"
   ]
  },
  {
   "cell_type": "code",
   "execution_count": 3,
   "metadata": {},
   "outputs": [
    {
     "name": "stdout",
     "output_type": "stream",
     "text": [
      "Success!\n"
     ]
    }
   ],
   "source": [
    "# your code should pass these tests---do NOT edit this cell\n",
    "from numpy import isclose\n",
    "assert type(duration)    == int and duration    == 720\n",
    "assert type(start_month)    == int and start_month    == 1\n",
    "assert type(start_year)   == int   and start_year   == 2018\n",
    "assert type(decay) == str and decay == 'never'\n",
    "print('Success!')"
   ]
  },
  {
   "cell_type": "markdown",
   "metadata": {},
   "source": [
    "### Commodities:\n",
    "\n",
    "Let's build `fresh-uox` and `spent-uox`, two of the commodities that will be traded in the simulation. \n",
    "`fresh-uox` is the fresh 4.0% enriched Uranium Oxide fuel that enters the reactor and `spent-uox` is the spent Uranium Oxide fuel that leaves the reactor after it is used. \n",
    "Whenever *CYCLUS* needs to know the composition of a material, it looks at the recipe for that material given in the input file.  Until now, \"recipe\" has been used to refer to fuel recipes, but the \"recipe\" section of the input file can include the recipe for natural uranium, spent fuel, fresh fuel, or any other material where the isotopic composition needs to be tracked.\n",
    "<br><br>\n",
    "First, we can declare the isotopic compostions of fresh and spent fuel.  We'll be using simple recipes: fresh fuel is 4.0% U-235 by mass, remainder U-238.  Spent fuel is 1.1% U-235, 94.0% U-238, 0.9% Pu-239, and 4.0% Cs-137.\n",
    "\n",
    "\\begin{gather*} \n",
    "\\textrm{Enrichment Facility} \\xrightarrow{\\textrm{4.0% Enriched Uranium}} \\textrm{Reactor} \\xrightarrow{\\textrm{Spent Nuclear Fuel}} \\textrm{Repository}\n",
    "\\end{gather*} \n",
    "<br>\n",
    "\n",
    "\\begin{gather*} \\textrm{Fresh Nuclear Fuel} \\end{gather*} | \\begin{gather*} \\textrm{Reactor} \\end{gather*}| \\begin{gather*} \\textrm{Spent Nuclear Fuel} \\end{gather*}\n",
    ":-------------------------:|:----:|:-------------------------:\n",
    "<img src=\"img/powder_pellet.jpg\" width=\"150\"> | \\begin{gather*} \\xrightarrow{} \\end{gather*}  |  <img src=\"img/nuclear_waste.jpg\" width=\"150\">\n",
    "<br>\n",
    "\n",
    "\\begin{gather*} \n",
    "\\textrm{Fresh Fuel Compostition}\n",
    "\\end{gather*} \n",
    "\n",
    "| Nuclide | Mass composition |\n",
    "| ------- | --------- |\n",
    "| $^{235}$U | 4.0 % |\n",
    "| $^{238}$U | 96.0 % |\n",
    "\n",
    "\\begin{gather*} \n",
    "\\textrm{Spent Fuel Compostition}\n",
    "\\end{gather*} \n",
    "\n",
    "| Nuclide | Mass composition |\n",
    "| ------- | --------- |\n",
    "| $^{239}$Pu | 0.9% |\n",
    "| $^{235}$U | 1.1% % |\n",
    "| $^{137}$Cs | 4.0% |\n",
    "| $^{238}$U | 94.0 % |\n",
    "."
   ]
  },
  {
   "cell_type": "code",
   "execution_count": 4,
   "metadata": {},
   "outputs": [],
   "source": [
    "fresh_id = [92235,92238]\n",
    "fresh_comp = [0.04, 0.96]\n",
    "\n",
    "spent_id = [92235, 92238, 94239, 55137]\n",
    "spent_comp = [0.011, 0.94, 0.009, 0.04]"
   ]
  },
  {
   "cell_type": "markdown",
   "metadata": {},
   "source": [
    "We will take the fresh and spent ids and compostitions above and use the recipe function to create a fuel recipe. \n"
   ]
  },
  {
   "cell_type": "code",
   "execution_count": 5,
   "metadata": {},
   "outputs": [
    {
     "name": "stdout",
     "output_type": "stream",
     "text": [
      "{92235: 0.04, 92238: 0.96}\n",
      "{92235: 0.011, 92238: 0.94, 94239: 0.009, 55137: 0.04}\n"
     ]
    }
   ],
   "source": [
    "fresh,spent = write.recipe(fresh_id,fresh_comp,spent_id,spent_comp)\n",
    "print(fresh)\n",
    "print(spent)"
   ]
  },
  {
   "cell_type": "markdown",
   "metadata": {},
   "source": [
    "<div class=\"alert alert-warning\">\n",
    "**Fuel Recipe Note**\n",
    "<br/>\n",
    "The recipe for natural uranium has already been included in the template.\n",
    "</div>\n"
   ]
  },
  {
   "cell_type": "markdown",
   "metadata": {},
   "source": [
    "### Reactor and Region \n",
    "<div class=\"alert alert-warning\">\n",
    "**Providing Reactor Data Recipe Note**\n",
    "<br/>\n",
    "<font size='2'>For the purposes of the tutorial, we'll input reactor information here in the notebook, then render it into a csv file and import it again.  Obviously, this isn't needed - we could directly input our reactor data and never bother with external files.  However, we're including this step to help new users who may be unfamiliar with python with one of many ways to import external data.</font>\n",
    "</div>\n",
    "<br>\n",
    "\n",
    "Exercise 1 models a single PWR in the United States.  It has a power capacity of 1178 MWe, and there is only one of them in the region.  Using the table below, fill in the missing information.\n",
    "\n",
    "<div class=\"alert alert-info\">\n",
    "**Interactive Input**\n",
    "<br/>\n",
    "Using the table below, create the following variables.  Include appropriate comments.\n",
    "</div>\n",
    "\n",
    "| Variable | Value  | Purpose |\n",
    "| -------- | ------ | ------- |\n",
    "| `country`      | `'United States'`  | country of reactor |\n",
    "| `reactor_name`      | `'1178MWe BRAIDWOOD-1'` | name of reactor |\n",
    "| `type_reactor`     | `'PWR'` | type of reactor |\n",
    "| `net_elec_capacity`   | `1178`  | net electric capacity (MWe) |\n",
    "| `operator`   | `'Exelon'`  | operator of reactor |\n",
    "\n",
    "\n"
   ]
  },
  {
   "cell_type": "code",
   "execution_count": 6,
   "metadata": {},
   "outputs": [],
   "source": [
    "'''\n",
    "Initialize all variables given from the table.\n",
    "'''\n",
    "country = 'United States' # country of reactor\n",
    "reactor_name = 'BRAIDWOOD-1' # name of reactor\n",
    "type_reactor = 'PWR' # type of reactor\n",
    "net_elec_capacity = 1178 #net electric capacity (MWe)\n",
    "operator = 'Exelon' #operator of reactor"
   ]
  },
  {
   "cell_type": "code",
   "execution_count": 7,
   "metadata": {},
   "outputs": [
    {
     "name": "stdout",
     "output_type": "stream",
     "text": [
      "Success!\n"
     ]
    }
   ],
   "source": [
    "# your code should pass these tests---do NOT edit this cell\n",
    "assert type(country)    == str and country    == 'United States'\n",
    "assert type(reactor_name)    == str and reactor_name    == 'BRAIDWOOD-1'\n",
    "assert type(type_reactor)   == str   and type_reactor   == 'PWR'\n",
    "assert type(net_elec_capacity) == int and net_elec_capacity == 1178\n",
    "assert type(operator) == str and operator == 'Exelon'\n",
    "\n",
    "print('Success!')"
   ]
  },
  {
   "cell_type": "markdown",
   "metadata": {},
   "source": [
    "Now using analysis.write, we will write this data into a csv file called \"tutorial_data.csv\"."
   ]
  },
  {
   "cell_type": "code",
   "execution_count": 8,
   "metadata": {},
   "outputs": [],
   "source": [
    "header = ['Country','Reactor Name','Type','Net Electric Capacity','Operator'] # this is the header of our csv file\n",
    "raw_input = [country,reactor_name,type_reactor,net_elec_capacity,operator] # this is the data we will be inserting into the csv file\n",
    "filename = \"csv_files/single_reactor_data.csv\" # this is the filename of the csv file \n",
    "\n",
    "write.write_csv(header,raw_input, filename)"
   ]
  },
  {
   "cell_type": "markdown",
   "metadata": {},
   "source": [
    "Within the reactor data, we gave how many reactors were initially deployed.  However, we still need to set how many mines, enrichment facilities, and repositories are in our region.  For now, we'll say that there is one of each facility in our region.\n",
    "\n",
    "<div class=\"alert alert-info\">\n",
    "**Interactive Input**\n",
    "<br/>\n",
    "Using the table below, create the following variables.  Include appropriate comments.\n",
    "</div>\n",
    "\n",
    "| Variable | Value  | Purpose |\n",
    "| -------- | ------ | ------- |\n",
    "| `n_mine`      | 1  | number of mines |\n",
    "| `n_enrichment`      | 1 | number of enrichment facilities |\n",
    "| `n_repository`     | 1 | number of repositories |\n"
   ]
  },
  {
   "cell_type": "code",
   "execution_count": 9,
   "metadata": {},
   "outputs": [],
   "source": [
    "n_mine = 1 # number of mines\n",
    "n_enrichment = 1 # number of enrichment facilities\n",
    "n_repository = 1 #number of repositories\n"
   ]
  },
  {
   "cell_type": "code",
   "execution_count": 10,
   "metadata": {},
   "outputs": [
    {
     "name": "stdout",
     "output_type": "stream",
     "text": [
      "Success!\n"
     ]
    }
   ],
   "source": [
    "# your code should pass these tests---do NOT edit this cell\n",
    "assert type(n_mine)    == int and n_mine    == 1\n",
    "assert type(n_enrichment)    == int and n_enrichment    == 1\n",
    "assert type(n_repository)   == int   and n_repository   == 1\n",
    "\n",
    "print('Success!')"
   ]
  },
  {
   "cell_type": "markdown",
   "metadata": {},
   "source": [
    "### Rendering the Input File:\n",
    "\n",
    "In practice, your simulation may have more variables, and you may be pulling data from external databases.  But, for this tutorial, we are ready to render the main input file for *CYCLUS*. <br>First, we'll import our \"external data\"  from a csv file with the information we gave earlier:"
   ]
  },
  {
   "cell_type": "code",
   "execution_count": 11,
   "metadata": {},
   "outputs": [
    {
     "data": {
      "text/html": [
       "<div>\n",
       "<style scoped>\n",
       "    .dataframe tbody tr th:only-of-type {\n",
       "        vertical-align: middle;\n",
       "    }\n",
       "\n",
       "    .dataframe tbody tr th {\n",
       "        vertical-align: top;\n",
       "    }\n",
       "\n",
       "    .dataframe thead th {\n",
       "        text-align: right;\n",
       "    }\n",
       "</style>\n",
       "<table border=\"1\" class=\"dataframe\">\n",
       "  <thead>\n",
       "    <tr style=\"text-align: right;\">\n",
       "      <th></th>\n",
       "      <th>Country</th>\n",
       "      <th>Reactor Name</th>\n",
       "      <th>Type</th>\n",
       "      <th>Net Electric Capacity</th>\n",
       "      <th>Operator</th>\n",
       "    </tr>\n",
       "  </thead>\n",
       "  <tbody>\n",
       "    <tr>\n",
       "      <th>0</th>\n",
       "      <td>United States</td>\n",
       "      <td>BRAIDWOOD-1</td>\n",
       "      <td>PWR</td>\n",
       "      <td>1178</td>\n",
       "      <td>Exelon</td>\n",
       "    </tr>\n",
       "  </tbody>\n",
       "</table>\n",
       "</div>"
      ],
      "text/plain": [
       "         Country Reactor Name Type  Net Electric Capacity Operator\n",
       "0  United States  BRAIDWOOD-1  PWR                   1178   Exelon"
      ]
     },
     "execution_count": 11,
     "metadata": {},
     "output_type": "execute_result"
    }
   ],
   "source": [
    "# This cell does not need user input, and you can run it now.\n",
    "\n",
    "reactor_data = write.import_csv('csv_files/single_reactor_data.csv')\n",
    "reactor_data"
   ]
  },
  {
   "cell_type": "code",
   "execution_count": 12,
   "metadata": {},
   "outputs": [
    {
     "name": "stdout",
     "output_type": "stream",
     "text": [
      "{'United States': [1, 1, 1]}\n"
     ]
    }
   ],
   "source": [
    "deployment_data = {}\n",
    "for element in reactor_data.loc[:,'Country'].drop_duplicates():\n",
    "    deployment_data[element] = [n_mine,n_enrichment,n_repository]\n",
    "        \n",
    "print(deployment_data)"
   ]
  },
  {
   "cell_type": "markdown",
   "metadata": {},
   "source": [
    "The input file is created in parts - it is common to have separate, smaller templates for the reactor, the recipes, and other blocks of the input file that require many variables.\n",
    "\n",
    "| Template | | Data  || Input |\n",
    "| -------- | | ------|| ------- |\n",
    "| $\\boxed{\\textrm{Reactor Template}}$   | + | $\\boxed{\\textrm{Reactor Data}}$ | = | $\\boxed{\\textrm{Reactor Input}}$ |\n",
    "| $\\boxed{\\textrm{Region Template}}$    | + | $\\boxed{\\textrm{Region Data}}$ | = | $\\boxed{\\textrm{Region Input}}$ |\n",
    "| $\\boxed{\\textrm{Recipe Template}}$    | + | $\\boxed{\\textrm{Recipe Data}}$ | = | $\\boxed{\\textrm{Recipe Input}}$ |\n",
    "<br><br>\n",
    "\n"
   ]
  },
  {
   "cell_type": "markdown",
   "metadata": {},
   "source": [
    "### Compiling the Input File\n",
    "Now, let's actually create the input file. "
   ]
  },
  {
   "cell_type": "markdown",
   "metadata": {},
   "source": [
    "### Write the Fuel recipe\n",
    "To write the Fuel recipe, use the `write` function and call the `fresh` and `spent`, the template `'recipe_template.xml'`, and the name of the output fuel recipe file, `'rendered-recipe.xml'`. "
   ]
  },
  {
   "cell_type": "code",
   "execution_count": 13,
   "metadata": {},
   "outputs": [
    {
     "name": "stdout",
     "output_type": "stream",
     "text": [
      "<recipe>\n",
      "  <name>nat-u</name>\n",
      "  <basis>mass</basis>\n",
      "  <nuclide>\n",
      "    <id>92235</id>\n",
      "    <comp>0.00711</comp>\n",
      "  </nuclide>\n",
      "  <nuclide>\n",
      "    <id>92238</id>\n",
      "    <comp>0.99289</comp>\n",
      "  </nuclide>\n",
      "</recipe>\n",
      "\n",
      "<recipe>\n",
      "  <name>fresh-uox</name>\n",
      "  <basis>mass</basis>\n",
      "  <nuclide>\n",
      "    <id>92235</id>\n",
      "    <comp>0.04</comp>\n",
      "  </nuclide>\n",
      "  <nuclide>\n",
      "    <id>92238</id>\n",
      "    <comp>0.96</comp>\n",
      "  </nuclide>\n",
      "  </recipe>\n",
      "\n",
      "<recipe>\n",
      "  <name>spent-uox</name>\n",
      "  <basis>mass</basis>\n",
      "  <nuclide>\n",
      "    <id>92235</id>\n",
      "    <comp>0.011</comp>\n",
      "  </nuclide>\n",
      "  <nuclide>\n",
      "    <id>92238</id>\n",
      "    <comp>0.94</comp>\n",
      "  </nuclide>\n",
      "  <nuclide>\n",
      "    <id>94239</id>\n",
      "    <comp>0.009</comp>\n",
      "  </nuclide>\n",
      "  <nuclide>\n",
      "    <id>55137</id>\n",
      "    <comp>0.04</comp>\n",
      "  </nuclide>\n",
      "  </recipe>\n"
     ]
    }
   ],
   "source": [
    "rendered_recipe = write.write_recipes(fresh,spent,\n",
    "                'template/recipe_template.xml','template/rendered-recipe.xml')\n",
    "\n",
    "with open(rendered_recipe,'r') as recipe:\n",
    "    print(recipe.read())"
   ]
  },
  {
   "cell_type": "markdown",
   "metadata": {},
   "source": [
    "<img src=\"img/fuel_com.png\" width=\"500\">"
   ]
  },
  {
   "cell_type": "markdown",
   "metadata": {},
   "source": [
    "### Writing the Region recipe\n",
    "To write the region recipe, use the `write` function and call the `reactor_data` and `deployment_data`, the template `'region_template.xml'`, and the name of the output recipe recipe file, `'rendered-region.xml'`. "
   ]
  },
  {
   "cell_type": "code",
   "execution_count": 14,
   "metadata": {},
   "outputs": [
    {
     "name": "stdout",
     "output_type": "stream",
     "text": [
      "\n",
      "<region>\n",
      "  <name>United States Exelon Reactors</name>\n",
      "  <config>\n",
      "    <NullRegion/>\n",
      "  </config>\n",
      "  <institution>\n",
      "    <initialfacilitylist>\n",
      "      <entry>\n",
      "        <prototype>1178MWe BRAIDWOOD-1</prototype>\n",
      "        <number>1</number>\n",
      "      </entry>\n",
      "      </initialfacilitylist>\n",
      "    <name>Exelon in United States</name>\n",
      "    <config>\n",
      "      <NullInst/>\n",
      "    </config>\n",
      "  </institution>\n",
      "</region>\n",
      "\n",
      "<region>\n",
      "  <name>United States Infrastructure</name>\n",
      "  <config>\n",
      "    <NullRegion/>\n",
      "  </config>\n",
      "  <institution>\n",
      "    <initialfacilitylist>\n",
      "      <entry>\n",
      "        <prototype>UraniumMine</prototype>\n",
      "        <number>1</number>\n",
      "      </entry>\n",
      "      <entry>\n",
      "        <prototype>EnrichmentPlant</prototype>\n",
      "        <number>1</number>\n",
      "      </entry>\n",
      "      <entry>\n",
      "        <prototype>NuclearRepository</prototype>\n",
      "        <number>1</number>\n",
      "      </entry>\n",
      "    </initialfacilitylist>\n",
      "    <name>United States Nuclear</name>\n",
      "    <config>\n",
      "      <NullInst/>\n",
      "    </config>\n",
      "  </institution>\n",
      "</region>\n",
      "\n"
     ]
    }
   ],
   "source": [
    "rendered_region = write.write_region(reactor_data,deployment_data,'template/region_template.xml','template/rendered-region.xml')\n",
    "with open(rendered_region,'r') as region:\n",
    "    print(region.read())\n"
   ]
  },
  {
   "cell_type": "markdown",
   "metadata": {},
   "source": [
    "### Write the Reactor Recipe\n",
    "To write the Reactor recipe, use the `write` function and call the `reactor_data`, the template `'reactor_template.xml'`, and the name of the output reactor recipe file, `'1xn-rendered-reactor.xml'`. "
   ]
  },
  {
   "cell_type": "code",
   "execution_count": 15,
   "metadata": {},
   "outputs": [
    {
     "name": "stdout",
     "output_type": "stream",
     "text": [
      "<facility>\n",
      "  <name>1178MWe BRAIDWOOD-1</name>\n",
      "  <config>\n",
      "    <Reactor>\n",
      "      <fuel_incommods> <val>fresh-uox</val> </fuel_incommods>\n",
      "      <fuel_inrecipes> <val>fresh-uox</val> </fuel_inrecipes>\n",
      "      <fuel_outcommods> <val>spent-uox</val> </fuel_outcommods>\n",
      "      <fuel_outrecipes> <val>spent-uox</val> </fuel_outrecipes>\n",
      "      <cycle_time>18</cycle_time>\n",
      "      <refuel_time>1</refuel_time>\n",
      "      <assem_size>33000</assem_size>\n",
      "      <n_assem_core>3</n_assem_core>\n",
      "      <n_assem_batch>1</n_assem_batch>\n",
      "      <power_cap>1178</power_cap>\n",
      "    </Reactor>\n",
      "  </config>\n",
      "</facility>\n"
     ]
    }
   ],
   "source": [
    "rendered_reactor = write.write_reactor(reactor_data, 'template/reactor_template.xml','template/rendered-reactor.xml')\n",
    "with open(rendered_reactor,'r') as reactor:\n",
    "    print(reactor.read())"
   ]
  },
  {
   "cell_type": "markdown",
   "metadata": {},
   "source": [
    "### Writing the main input\n",
    "#### Main input Template\n",
    "We can also look at the main input template.  In order to insert the already rendered parts into the main input file, it has {{variable}} sections where each section would go.  Then, in a fashion simiar to how the templates have been opened here in the notebook, the files are assigned to variables and inserted into the template.\n",
    "As seen above, there are facility trees for each prototype made - the mine, the enrichment facility, and repository. all have their own section within the main input, as well as sections for setting simulation parameters, and defining archetypes and commodities."
   ]
  },
  {
   "cell_type": "code",
   "execution_count": 16,
   "metadata": {},
   "outputs": [
    {
     "name": "stdout",
     "output_type": "stream",
     "text": [
      "<simulation>\n",
      "  <control>\n",
      "    <duration>720</duration>\n",
      "    <startmonth>1</startmonth>\n",
      "    <startyear>2018</startyear>\n",
      "    <decay>never</decay>\n",
      "  </control>\n",
      "\n",
      "  <archetypes>\n",
      "    <spec>\n",
      "      <lib>cycamore</lib>\n",
      "      <name>Enrichment</name>\n",
      "    </spec>\n",
      "    <spec>\n",
      "      <lib>cycamore</lib>\n",
      "      <name>Reactor</name>\n",
      "    </spec>\n",
      "    <spec>\n",
      "      <lib>cycamore</lib>\n",
      "      <name>Source</name>\n",
      "    </spec>\n",
      "    <spec>\n",
      "      <lib>cycamore</lib>\n",
      "      <name>Sink</name>\n",
      "    </spec>\n",
      "    <spec>\n",
      "      <lib>agents</lib>\n",
      "      <name>NullRegion</name>\n",
      "    </spec>\n",
      "    <spec>\n",
      "      <lib>agents</lib>\n",
      "      <name>NullInst</name>\n",
      "    </spec>\n",
      "  </archetypes>\n",
      "\n",
      "  <commodity>\n",
      "    <name>u-ore</name>\n",
      "    <solution_priority>1.0</solution_priority>\n",
      "  </commodity>\n",
      "  <commodity>\n",
      "    <name>fresh-uox</name>\n",
      "    <solution_priority>1.0</solution_priority>\n",
      "  </commodity>\n",
      "  <commodity>\n",
      "    <name>tails</name>\n",
      "    <solution_priority>1.0</solution_priority>\n",
      "  </commodity>\n",
      "  <commodity>\n",
      "    <name>spent-uox</name>\n",
      "    <solution_priority>1.0</solution_priority>\n",
      "  </commodity>\n",
      "\n",
      "  <facility>\n",
      "    <name>UraniumMine</name>\n",
      "    <config>\n",
      "      <Source>\n",
      "        <outcommod>u-ore</outcommod>\n",
      "      </Source>\n",
      "    </config>\n",
      "  </facility>\n",
      "\n",
      "  <facility>\n",
      "    <name>EnrichmentPlant</name>\n",
      "    <config>\n",
      "      <Enrichment>\n",
      "        <feed_commod>u-ore</feed_commod>\n",
      "        <feed_recipe>nat-u</feed_recipe>\n",
      "        <product_commod>fresh-uox</product_commod>\n",
      "        <tails_commod>tails</tails_commod>\n",
      "        <max_feed_inventory>1000000</max_feed_inventory>\n",
      "      </Enrichment>\n",
      "    </config>\n",
      "  </facility>\n",
      "\n",
      "  <facility>\n",
      "  <name>1178MWe BRAIDWOOD-1</name>\n",
      "  <config>\n",
      "    <Reactor>\n",
      "      <fuel_incommods> <val>fresh-uox</val> </fuel_incommods>\n",
      "      <fuel_inrecipes> <val>fresh-uox</val> </fuel_inrecipes>\n",
      "      <fuel_outcommods> <val>spent-uox</val> </fuel_outcommods>\n",
      "      <fuel_outrecipes> <val>spent-uox</val> </fuel_outrecipes>\n",
      "      <cycle_time>18</cycle_time>\n",
      "      <refuel_time>1</refuel_time>\n",
      "      <assem_size>33000</assem_size>\n",
      "      <n_assem_core>3</n_assem_core>\n",
      "      <n_assem_batch>1</n_assem_batch>\n",
      "      <power_cap>1178</power_cap>\n",
      "    </Reactor>\n",
      "  </config>\n",
      "</facility>\n",
      "\n",
      "  <facility>\n",
      "    <name>NuclearRepository</name>\n",
      "    <config>\n",
      "      <Sink>\n",
      "        <in_commods>\n",
      "          <val>spent-uox</val>\n",
      "        </in_commods>\n",
      "      </Sink>\n",
      "    </config>\n",
      "  </facility>\n",
      "\n",
      "  \n",
      "<region>\n",
      "  <name>United States Exelon Reactors</name>\n",
      "  <config>\n",
      "    <NullRegion/>\n",
      "  </config>\n",
      "  <institution>\n",
      "    <initialfacilitylist>\n",
      "      <entry>\n",
      "        <prototype>1178MWe BRAIDWOOD-1</prototype>\n",
      "        <number>1</number>\n",
      "      </entry>\n",
      "      </initialfacilitylist>\n",
      "    <name>Exelon in United States</name>\n",
      "    <config>\n",
      "      <NullInst/>\n",
      "    </config>\n",
      "  </institution>\n",
      "</region>\n",
      "\n",
      "<region>\n",
      "  <name>United States Infrastructure</name>\n",
      "  <config>\n",
      "    <NullRegion/>\n",
      "  </config>\n",
      "  <institution>\n",
      "    <initialfacilitylist>\n",
      "      <entry>\n",
      "        <prototype>UraniumMine</prototype>\n",
      "        <number>1</number>\n",
      "      </entry>\n",
      "      <entry>\n",
      "        <prototype>EnrichmentPlant</prototype>\n",
      "        <number>1</number>\n",
      "      </entry>\n",
      "      <entry>\n",
      "        <prototype>NuclearRepository</prototype>\n",
      "        <number>1</number>\n",
      "      </entry>\n",
      "    </initialfacilitylist>\n",
      "    <name>United States Nuclear</name>\n",
      "    <config>\n",
      "      <NullInst/>\n",
      "    </config>\n",
      "  </institution>\n",
      "</region>\n",
      "\n",
      "\n",
      "  <recipe>\n",
      "  <name>nat-u</name>\n",
      "  <basis>mass</basis>\n",
      "  <nuclide>\n",
      "    <id>92235</id>\n",
      "    <comp>0.00711</comp>\n",
      "  </nuclide>\n",
      "  <nuclide>\n",
      "    <id>92238</id>\n",
      "    <comp>0.99289</comp>\n",
      "  </nuclide>\n",
      "</recipe>\n",
      "\n",
      "<recipe>\n",
      "  <name>fresh-uox</name>\n",
      "  <basis>mass</basis>\n",
      "  <nuclide>\n",
      "    <id>92235</id>\n",
      "    <comp>0.04</comp>\n",
      "  </nuclide>\n",
      "  <nuclide>\n",
      "    <id>92238</id>\n",
      "    <comp>0.96</comp>\n",
      "  </nuclide>\n",
      "  </recipe>\n",
      "\n",
      "<recipe>\n",
      "  <name>spent-uox</name>\n",
      "  <basis>mass</basis>\n",
      "  <nuclide>\n",
      "    <id>92235</id>\n",
      "    <comp>0.011</comp>\n",
      "  </nuclide>\n",
      "  <nuclide>\n",
      "    <id>92238</id>\n",
      "    <comp>0.94</comp>\n",
      "  </nuclide>\n",
      "  <nuclide>\n",
      "    <id>94239</id>\n",
      "    <comp>0.009</comp>\n",
      "  </nuclide>\n",
      "  <nuclide>\n",
      "    <id>55137</id>\n",
      "    <comp>0.04</comp>\n",
      "  </nuclide>\n",
      "  </recipe>\n",
      "\n",
      "</simulation>\n"
     ]
    }
   ],
   "source": [
    "write.write_main_input(simulation_parameters,rendered_reactor,rendered_region,rendered_recipe,\n",
    "                 'template/main_input.xml','template/rendered-main-input.xml')\n",
    "with open('template/rendered-main-input.xml','r') as maininput:\n",
    "    print(maininput.read())"
   ]
  },
  {
   "cell_type": "markdown",
   "metadata": {},
   "source": [
    "It is possible to change some of the variables in this input file to suit user preference.  However, certain names used in one scetion must match the names used in others.  For reference, an image of an input file has been included below, with the parts that must match each other highlighted in matching colors.\n",
    "<br><br>\n",
    "<img src=\"img/colorcodet1.png\" width=\"600\">\n",
    "<img src=\"img/colorcodet2.png\" width=\"600\">\n",
    "<img src=\"img/colorcodet3.png\" width=\"600\">\n",
    "<img src=\"img/colorcodet4.png\" width=\"600\">\n",
    "<img src=\"img/colorcodet5.png\" width=\"600\">\n",
    "<img src=\"img/colorcodet6.png\" width=\"600\">"
   ]
  },
  {
   "cell_type": "markdown",
   "metadata": {},
   "source": [
    "# Excerise 2\n",
    "### Running the Simulation:\n",
    "*CYCLUS* can be run using a single terminal command, given below. The cell will run this command for you, but it's also possible to remove the ! and directly run it in the terminal"
   ]
  },
  {
   "cell_type": "code",
   "execution_count": 17,
   "metadata": {},
   "outputs": [
    {
     "name": "stdout",
     "output_type": "stream",
     "text": [
      "              :                                                               \n",
      "          .CL:CC CC             _Q     _Q  _Q_Q    _Q    _Q              _Q   \n",
      "        CC;CCCCCCCC:C;         /_\\)   /_\\)/_/\\\\)  /_\\)  /_\\)            /_\\)  \n",
      "        CCCCCCCCCCCCCl       __O|/O___O|/O_OO|/O__O|/O__O|/O____________O|/O__\n",
      "     CCCCCCf     iCCCLCC     /////////////////////////////////////////////////\n",
      "     iCCCt  ;;;;;.  CCCC                                                      \n",
      "    CCCC  ;;;;;;;;;. CClL.                          c                         \n",
      "   CCCC ,;;       ;;: CCCC  ;                   : CCCCi                       \n",
      "    CCC ;;         ;;  CC   ;;:                CCC`   `C;                     \n",
      "  lCCC ;;              CCCC  ;;;:             :CC .;;. C;   ;    :   ;  :;;   \n",
      "  CCCC ;.              CCCC    ;;;,           CC ;    ; Ci  ;    :   ;  :  ;  \n",
      "   iCC :;               CC       ;;;,        ;C ;       CC  ;    :   ; .      \n",
      "  CCCi ;;               CCC        ;;;.      .C ;       tf  ;    :   ;  ;.    \n",
      "  CCC  ;;               CCC          ;;;;;;; fC :       lC  ;    :   ;    ;:  \n",
      "   iCf ;;               CC         :;;:      tC ;       CC  ;    :   ;     ;  \n",
      "  fCCC :;              LCCf      ;;;:         LC :.  ,: C   ;    ;   ; ;   ;  \n",
      "  CCCC  ;;             CCCC    ;;;:           CCi `;;` CC.  ;;;; :;.;.  ; ,;  \n",
      "    CCl ;;             CC    ;;;;              CCC    CCL                     \n",
      "   tCCC  ;;        ;; CCCL  ;;;                  tCCCCC.                      \n",
      "    CCCC  ;;     :;; CCCCf  ;                     ,L                          \n",
      "     lCCC   ;;;;;;  CCCL                                                      \n",
      "     CCCCCC  :;;  fCCCCC                                                      \n",
      "      . CCCC     CCCC .                                                       \n",
      "       .CCCCCCCCCCCCCi                                                        \n",
      "          iCCCCCLCf                                                           \n",
      "           .  C. ,                                                            \n",
      "              :                                                               \n",
      "<grammar xmlns=\"http://relaxng.org/ns/structure/1.0\"\n",
      "datatypeLibrary=\"http://www.w3.org/2001/XMLSchema-datatypes\">\n",
      "<start>\n",
      "\n",
      "<element name=\"simulation\">\n",
      "  <optional><element name=\"schematype\"><text/></element></optional>\n",
      "<interleave>\n",
      "\n",
      "  <optional><element name=\"ui\"><text/></element></optional>\n",
      "  \n",
      "  <element name =\"control\">\n",
      "    <interleave>\n",
      "      <optional>\n",
      "        <element name=\"simhandle\"> <data type=\"string\"/> </element>\n",
      "      </optional>\n",
      "      <element name=\"duration\"> <data type=\"nonNegativeInteger\"/> </element>\n",
      "      <element name=\"startmonth\"> <data type=\"nonNegativeInteger\"/> </element>\n",
      "      <element name=\"startyear\"> <data type=\"nonNegativeInteger\"/> </element>\n",
      "      <optional>\n",
      "        <element name=\"decay\"> <text/> </element>\n",
      "      </optional>\n",
      "      <optional> \n",
      "        <element name=\"dt\"><data type=\"nonNegativeInteger\"/></element> \n",
      "      </optional>\n",
      "      <optional>\n",
      "        <element name=\"explicit_inventory\"> <data type=\"boolean\"/> </element>\n",
      "      </optional>\n",
      "      <optional>\n",
      "        <element name=\"explicit_inventory_compact\"> <data type=\"boolean\"/> </element>\n",
      "      </optional>\n",
      "      <optional>\n",
      "          <element name=\"tolerance_generic\"><data type=\"double\"/></element>\n",
      "      </optional>\n",
      "      <optional>\n",
      "          <element name=\"tolerance_resource\"><data type=\"double\"/></element>\n",
      "      </optional>\n",
      "      <optional>\n",
      "        <element name=\"solver\"> \n",
      "          <interleave>\n",
      "            <optional><element name=\"config\">\n",
      "            <choice>\n",
      "              <element name=\"greedy\">\n",
      "                <interleave>\n",
      "                  <optional>\n",
      "                    <element name=\"preconditioner\"> <text/> </element>\n",
      "                  </optional>\n",
      "                </interleave>\n",
      "              </element>\n",
      "              <element name=\"coin-or\">\n",
      "                <interleave>\n",
      "                  <optional>\n",
      "                    <element name=\"timeout\">  <data type=\"positiveInteger\"/>  </element>\n",
      "                  </optional>\n",
      "                  <optional><element name=\"verbose\"><data type=\"boolean\"/></element></optional>\n",
      "                  <optional><element name=\"mps\"><data type=\"boolean\"/></element></optional>\n",
      "                </interleave>\n",
      "              </element>\n",
      "            </choice>\n",
      "            </element></optional>\n",
      "            <optional>\n",
      "              <element name=\"allow_exclusive_orders\">\n",
      "                <data type=\"boolean\" />\n",
      "              </element>\n",
      "            </optional>\n",
      "            <optional><!--deprecated. @TODO remove in release 1.5 -->\n",
      "              <element name=\"exclusive_orders_only\">\n",
      "                <data type=\"boolean\" />\n",
      "              </element>\n",
      "            </optional>\n",
      "          </interleave>\n",
      "        </element>\n",
      "      </optional>\n",
      "    </interleave>\n",
      "  </element>\n",
      "\n",
      "  <zeroOrMore>\n",
      "    <element name=\"commodity\">\n",
      "      <interleave>\n",
      "        <element name=\"name\"> <text/> </element>\n",
      "        <element name=\"solution_priority\"> <data type=\"double\"/> </element>\n",
      "      </interleave>\n",
      "    </element>\n",
      "  </zeroOrMore>\n",
      "    \n",
      "  <element name=\"archetypes\"> \n",
      "    <oneOrMore>\n",
      "      <element name=\"spec\">\n",
      "        <interleave>\n",
      "          <optional><element name=\"path\"><text/></element></optional>\n",
      "          <optional><element name=\"lib\"><text/></element></optional>\n",
      "          <element name=\"name\"><text/></element>\n",
      "          <optional><element name=\"alias\"><text/></element></optional>\n",
      "        </interleave>\n",
      "      </element>\n",
      "    </oneOrMore>\n",
      "  </element>\n",
      "\n",
      "  <oneOrMore>\n",
      "    <element name=\"facility\">\n",
      "      <interleave>\n",
      "        <element name=\"name\"> <text/> </element>\n",
      "        <optional>\n",
      "          <element name=\"lifetime\"> <data type=\"nonNegativeInteger\"/> </element>\n",
      "        </optional>\n",
      "\n",
      "        <element name=\"config\">\n",
      "          <choice>\n",
      "          <element name=\"Enrichment\">\n",
      "<interleave>\n",
      "    <element name=\"feed_commod\">\n",
      "        <data type=\"string\"/>\n",
      "    </element>\n",
      "    <element name=\"feed_recipe\">\n",
      "        <data type=\"string\"/>\n",
      "    </element>\n",
      "    <element name=\"product_commod\">\n",
      "        <data type=\"string\"/>\n",
      "    </element>\n",
      "    <element name=\"tails_commod\">\n",
      "        <data type=\"string\"/>\n",
      "    </element>\n",
      "    <optional>\n",
      "        <element name=\"tails_assay\">\n",
      "            <data type=\"double\"/>\n",
      "        </element>\n",
      "    </optional>\n",
      "    <optional>\n",
      "        <element name=\"initial_feed\">\n",
      "            <data type=\"double\"/>\n",
      "        </element>\n",
      "    </optional>\n",
      "    <optional>\n",
      "        <element name=\"max_feed_inventory\">\n",
      "            <data type=\"double\"/>\n",
      "        </element>\n",
      "    </optional>\n",
      "    <optional>\n",
      "        <element name=\"max_enrich\">\n",
      "            <data type=\"double\">\n",
      "                <param name=\"minInclusive\">0</param>\n",
      "                <param name=\"maxInclusive\">1</param>\n",
      "            </data>\n",
      "        </element>\n",
      "    </optional>\n",
      "    <optional>\n",
      "        <element name=\"order_prefs\">\n",
      "            <data type=\"boolean\"/>\n",
      "        </element>\n",
      "    </optional>\n",
      "    <optional>\n",
      "        <element name=\"swu_capacity\">\n",
      "            <data type=\"double\"/>\n",
      "        </element>\n",
      "    </optional>\n",
      "</interleave>\n",
      "\n",
      "</element>\n",
      "<element name=\"Reactor\">\n",
      "<interleave>\n",
      "    <element name=\"fuel_incommods\">\n",
      "        <oneOrMore>\n",
      "            <element name=\"val\">\n",
      "                <data type=\"string\"/>\n",
      "            </element>\n",
      "        </oneOrMore>\n",
      "    </element>\n",
      "    <element name=\"fuel_inrecipes\">\n",
      "        <oneOrMore>\n",
      "            <element name=\"val\">\n",
      "                <data type=\"string\"/>\n",
      "            </element>\n",
      "        </oneOrMore>\n",
      "    </element>\n",
      "    <optional>\n",
      "        <element name=\"fuel_prefs\">\n",
      "            <oneOrMore>\n",
      "                <element name=\"val\">\n",
      "                    <data type=\"double\"/>\n",
      "                </element>\n",
      "            </oneOrMore>\n",
      "        </element>\n",
      "    </optional>\n",
      "    <element name=\"fuel_outcommods\">\n",
      "        <oneOrMore>\n",
      "            <element name=\"val\">\n",
      "                <data type=\"string\"/>\n",
      "            </element>\n",
      "        </oneOrMore>\n",
      "    </element>\n",
      "    <element name=\"fuel_outrecipes\">\n",
      "        <oneOrMore>\n",
      "            <element name=\"val\">\n",
      "                <data type=\"string\"/>\n",
      "            </element>\n",
      "        </oneOrMore>\n",
      "    </element>\n",
      "    <optional>\n",
      "        <element name=\"recipe_change_times\">\n",
      "            <oneOrMore>\n",
      "                <element name=\"val\">\n",
      "                    <data type=\"int\"/>\n",
      "                </element>\n",
      "            </oneOrMore>\n",
      "        </element>\n",
      "    </optional>\n",
      "    <optional>\n",
      "        <element name=\"recipe_change_commods\">\n",
      "            <oneOrMore>\n",
      "                <element name=\"val\">\n",
      "                    <data type=\"string\"/>\n",
      "                </element>\n",
      "            </oneOrMore>\n",
      "        </element>\n",
      "    </optional>\n",
      "    <optional>\n",
      "        <element name=\"recipe_change_in\">\n",
      "            <oneOrMore>\n",
      "                <element name=\"val\">\n",
      "                    <data type=\"string\"/>\n",
      "                </element>\n",
      "            </oneOrMore>\n",
      "        </element>\n",
      "    </optional>\n",
      "    <optional>\n",
      "        <element name=\"recipe_change_out\">\n",
      "            <oneOrMore>\n",
      "                <element name=\"val\">\n",
      "                    <data type=\"string\"/>\n",
      "                </element>\n",
      "            </oneOrMore>\n",
      "        </element>\n",
      "    </optional>\n",
      "    <element name=\"assem_size\">\n",
      "        <data type=\"double\"/>\n",
      "    </element>\n",
      "    <element name=\"n_assem_batch\">\n",
      "        <data type=\"int\"/>\n",
      "    </element>\n",
      "    <optional>\n",
      "        <element name=\"n_assem_core\">\n",
      "            <data type=\"int\"/>\n",
      "        </element>\n",
      "    </optional>\n",
      "    <optional>\n",
      "        <element name=\"n_assem_fresh\">\n",
      "            <data type=\"int\"/>\n",
      "        </element>\n",
      "    </optional>\n",
      "    <optional>\n",
      "        <element name=\"n_assem_spent\">\n",
      "            <data type=\"int\"/>\n",
      "        </element>\n",
      "    </optional>\n",
      "    <optional>\n",
      "        <element name=\"cycle_time\">\n",
      "            <data type=\"int\"/>\n",
      "        </element>\n",
      "    </optional>\n",
      "    <optional>\n",
      "        <element name=\"refuel_time\">\n",
      "            <data type=\"int\"/>\n",
      "        </element>\n",
      "    </optional>\n",
      "    <optional>\n",
      "        <element name=\"cycle_step\">\n",
      "            <data type=\"int\"/>\n",
      "        </element>\n",
      "    </optional>\n",
      "    <optional>\n",
      "        <element name=\"power_cap\">\n",
      "            <data type=\"double\"/>\n",
      "        </element>\n",
      "    </optional>\n",
      "    <optional>\n",
      "        <element name=\"power_name\">\n",
      "            <data type=\"string\"/>\n",
      "        </element>\n",
      "    </optional>\n",
      "    <optional>\n",
      "        <element name=\"pref_change_times\">\n",
      "            <oneOrMore>\n",
      "                <element name=\"val\">\n",
      "                    <data type=\"int\"/>\n",
      "                </element>\n",
      "            </oneOrMore>\n",
      "        </element>\n",
      "    </optional>\n",
      "    <optional>\n",
      "        <element name=\"pref_change_commods\">\n",
      "            <oneOrMore>\n",
      "                <element name=\"val\">\n",
      "                    <data type=\"string\"/>\n",
      "                </element>\n",
      "            </oneOrMore>\n",
      "        </element>\n",
      "    </optional>\n",
      "    <optional>\n",
      "        <element name=\"pref_change_values\">\n",
      "            <oneOrMore>\n",
      "                <element name=\"val\">\n",
      "                    <data type=\"double\"/>\n",
      "                </element>\n",
      "            </oneOrMore>\n",
      "        </element>\n",
      "    </optional>\n",
      "</interleave>\n",
      "\n",
      "</element>\n",
      "<element name=\"Source\">\n",
      "<interleave>\n",
      "    <element name=\"outcommod\">\n",
      "        <data type=\"string\"/>\n",
      "    </element>\n",
      "    <optional>\n",
      "        <element name=\"outrecipe\">\n",
      "            <data type=\"string\"/>\n",
      "        </element>\n",
      "    </optional>\n",
      "    <optional>\n",
      "        <element name=\"inventory_size\">\n",
      "            <data type=\"double\"/>\n",
      "        </element>\n",
      "    </optional>\n",
      "    <optional>\n",
      "        <element name=\"throughput\">\n",
      "            <data type=\"double\"/>\n",
      "        </element>\n",
      "    </optional>\n",
      "</interleave>\n",
      "\n",
      "</element>\n",
      "<element name=\"Sink\">\n",
      "<interleave>\n",
      "    <element name=\"in_commods\">\n",
      "        <oneOrMore>\n",
      "            <element name=\"val\">\n",
      "                <data type=\"string\"/>\n",
      "            </element>\n",
      "        </oneOrMore>\n",
      "    </element>\n",
      "    <optional>\n",
      "        <element name=\"in_commod_prefs\">\n",
      "            <oneOrMore>\n",
      "                <element name=\"val\">\n",
      "                    <data type=\"double\"/>\n",
      "                </element>\n",
      "            </oneOrMore>\n",
      "        </element>\n",
      "    </optional>\n",
      "    <optional>\n",
      "        <element name=\"recipe_name\">\n",
      "            <data type=\"string\"/>\n",
      "        </element>\n",
      "    </optional>\n",
      "    <optional>\n",
      "        <element name=\"max_inv_size\">\n",
      "            <data type=\"double\"/>\n",
      "        </element>\n",
      "    </optional>\n",
      "    <optional>\n",
      "        <element name=\"capacity\">\n",
      "            <data type=\"double\"/>\n",
      "        </element>\n",
      "    </optional>\n",
      "</interleave>\n",
      "\n",
      "</element>\n",
      "\n",
      "          </choice>\n",
      "        </element>\n",
      "      </interleave>\n",
      "    </element>\n",
      "  </oneOrMore>\n",
      "\n",
      "  <oneOrMore>\n",
      "    <element name=\"region\"> <interleave>\n",
      "      <element name=\"name\"> <text/> </element>\n",
      "      <optional>\n",
      "        <element name=\"lifetime\"> <data type=\"nonNegativeInteger\"/> </element>\n",
      "      </optional>\n",
      "\n",
      "      <element name=\"config\">\n",
      "        <choice>\n",
      "        <element name=\"NullRegion\">\n",
      "<text/>\n",
      "\n",
      "</element>\n",
      "\n",
      "        </choice>\n",
      "      </element>\n",
      "\n",
      "      <oneOrMore>\n",
      "        <element name=\"institution\"> <interleave>\n",
      "          <element name=\"name\"> <text/> </element>\n",
      "          <optional>\n",
      "            <element name=\"lifetime\"> <data type=\"nonNegativeInteger\"/> </element>\n",
      "          </optional>\n",
      "\n",
      "          <optional>\n",
      "            <element name=\"initialfacilitylist\">\n",
      "              <oneOrMore>\n",
      "                <element name=\"entry\">\n",
      "                  <interleave>\n",
      "                    <element name=\"prototype\"> <text/> </element>\n",
      "                    <element name=\"number\"> <data type=\"nonNegativeInteger\"/> </element>\n",
      "                  </interleave>\n",
      "                </element>\n",
      "              </oneOrMore>\n",
      "            </element>\n",
      "          </optional>\n",
      "\n",
      "          <element name=\"config\">\n",
      "            <choice>\n",
      "            <element name=\"NullInst\">\n",
      "<text/>\n",
      "\n",
      "</element>\n",
      "\n",
      "            </choice>\n",
      "          </element>\n",
      "        </interleave> </element>\n",
      "      </oneOrMore>\n",
      "\n",
      "    </interleave> </element>\n",
      "  </oneOrMore>\n",
      "\n",
      "  <zeroOrMore>\n",
      "    <element name=\"recipe\">\n",
      "      <interleave>\n",
      "        <element name=\"name\"><text/></element>\n",
      "        <element name=\"basis\"><text/></element>\n",
      "        <oneOrMore>\n",
      "          <element name=\"nuclide\">\n",
      "            <interleave>\n",
      "              <element name=\"id\"><data type=\"string\"/></element>\n",
      "              <element name=\"comp\"><data type=\"double\"/></element>\n",
      "            </interleave>\n",
      "          </element>\n",
      "        </oneOrMore>\n",
      "      </interleave>\n",
      "    </element>\n",
      "  </zeroOrMore>\n",
      "\n",
      "</interleave> </element>\n",
      "\n",
      "</start>\n",
      "\n",
      "</grammar>\n",
      "\n"
     ]
    },
    {
     "name": "stdout",
     "output_type": "stream",
     "text": [
      "\r\n",
      "Status: Cyclus run successful!\r\n",
      "Output location: cyclus.sqlite\r\n",
      "Simulation ID: 2ae3675b-ff44-46b6-b315-4ce32e7a46d3\r\n"
     ]
    }
   ],
   "source": [
    "# CYCLUS will not overwrite an old file - delete the old version if you run a simulation again and put\n",
    "# the output to the same filename\n",
    "!rm cyclus.sqlite\n",
    "!cyclus template/rendered-main-input.xml -o cyclus.sqlite\n",
    "# this is a command that can be executed in your terminal, without the ! . The -o flag is used to\n",
    "# set the name of the output file.  Without it, the default is \"cyclus.sqlite\""
   ]
  },
  {
   "cell_type": "markdown",
   "metadata": {},
   "source": [
    "# Exercise 3\n",
    "### Analyze the results:\n",
    "\n",
    "*CYCLUS* creates a .sqlite file as its output.  SQL is a database file type that consists of a series of tables.  A few functions have been included in cyutils.analysis.py to pull information from the sqlite database and create figures.<br><br>\n",
    "An sqlite database can be opened and its contents viewed, but these database browsers often aren't helpful. Importing the data into an external function and manipulating it would provide more useful information. However, it can still be helpful to open and view the tables.\n",
    "<img src=\"img/Selection_002.png\" width=\"650\"><br><br>\n",
    "This a view of the tables within the database (using DB browser for SQLite).  However, to view the data within these tables, switch to the Browse Data tab:<br>\n",
    "<img src=\"img/Selection_003.png\" width=\"650\"><br>\n",
    "And select the table of interest.  Some tables have data that may need to be manipulated or used alongside other data in other tables, which is why using a python script is often ideal."
   ]
  },
  {
   "cell_type": "markdown",
   "metadata": {},
   "source": [
    "First, a cursor that points to the sqlite file is created:"
   ]
  },
  {
   "cell_type": "code",
   "execution_count": 18,
   "metadata": {},
   "outputs": [],
   "source": [
    "cur = analysis.cursor('cyclus.sqlite')"
   ]
  },
  {
   "cell_type": "markdown",
   "metadata": {},
   "source": [
    "#### Total mass traded\n",
    "\n",
    "How much $^{235}$U left the 1178MWe BRAIDWOOD-1?\n",
    "To find out, lets use the `total_isotope_traded` function!\n",
    "The `total_isotope_traded` takes three input arguments:\n",
    "- cur (cursor to *CYCLUS* output file)\n",
    "- facility (facility of interest)\n",
    "- flux (direction of isotope transaction)\n",
    "- nucid (nuclide id)\n",
    "\n",
    "<div class=\"alert alert-info\">\n",
    "**Interactive Input**\n",
    "<br/>\n",
    "Using the table below, create the following variables.  Include appropriate comments.\n",
    "</div>\n",
    "\n",
    "| Variable | Value  | Purpose |\n",
    "| -------- | ------ | ------- |\n",
    "| `cur`      | `cur` | cursor to *CYCLUS* output file |\n",
    "| `facility`      | `'1178MWe BRAIDWOOD-1'` | facility of interest |\n",
    "| `flux`      | `'out'` | isotope transaction direction |\n",
    "| `nucid`      | `922350000` | nuclide id |\n"
   ]
  },
  {
   "cell_type": "code",
   "execution_count": 19,
   "metadata": {},
   "outputs": [
    {
     "name": "stdout",
     "output_type": "stream",
     "text": [
      "Total amount of U235 that left the 1178MWe BRAIDWOOD-1 reactor:\n"
     ]
    },
    {
     "data": {
      "text/plain": [
       "13431.0"
      ]
     },
     "execution_count": 19,
     "metadata": {},
     "output_type": "execute_result"
    }
   ],
   "source": [
    "cur = cur # cursor to CYCLUS output file\n",
    "facility = '1178MWe BRAIDWOOD-1' # facility of interest\n",
    "flux = 'out' # isotope transaction direction\n",
    "nucid = 922350000 # nuclide id \n",
    "print('Total amount of U235 that left the '+ str(facility) +' reactor:')  \n",
    "analysis.total_isotope_traded(cur,facility,flux,nucid)"
   ]
  },
  {
   "cell_type": "markdown",
   "metadata": {},
   "source": [
    "Now let's plot the cumulative mass of the spent nuclear fuel that is taken out of the 1178MWe BRAIDWOOD-1.\n",
    "Again, let's use the handy `analysis.plot_out_flux_cumulative`function which takes input arguments:\n",
    "- cur (cursor to *CYCLUS* output file)\n",
    "- facility (facility of interest)\n",
    "- title (title of plot)\n",
    "\n",
    "<div class=\"alert alert-info\">\n",
    "**Interactive Input**\n",
    "<br/>\n",
    "Using the table below, create the following variables.  Include appropriate comments.\n",
    "</div>\n",
    "\n",
    "| Variable | Value  | Purpose |\n",
    "| -------- | ------ | ------- |\n",
    "| `cur`      | `cur` | cursor to *CYCLUS* output file |\n",
    "| `facility`      | `'1178MWe BRAIDWOOD-1'` | facility of interest |\n",
    "| `title`      | `'Cumulative Isotope Outflux of 1178MWe BRAIDWOOD-1'` | title of plot |\n"
   ]
  },
  {
   "cell_type": "code",
   "execution_count": 20,
   "metadata": {},
   "outputs": [
    {
     "data": {
      "image/png": "[encoded data removed]",
      "text/plain": [
       "<Figure size 720x576 with 1 Axes>"
      ]
     },
     "metadata": {},
     "output_type": "display_data"
    }
   ],
   "source": [
    "plt.rcParams['figure.figsize'] = [10, 8]\n",
    "plt.rcParams['legend.fontsize'] = 12\n",
    "facility = '1178MWe BRAIDWOOD-1'\n",
    "title = 'Cumulative Isotope Outflux of 1178MWe BRAIDWOOD-1'\n",
    "analysis.plot_out_flux_cumulative(cur, facility,title)"
   ]
  },
  {
   "cell_type": "markdown",
   "metadata": {},
   "source": [
    "Let's take a look at the total mass of spent nuclear fuel stored at the Nuclear Waste Repository.\n",
    "To plot, use the `analysis.plot_in_flux_cumulative(cur, facility, title)` function. \n",
    "<div class=\"alert alert-info\">\n",
    "**Interactive Input**\n",
    "<br/>\n",
    "Using the table below, create the following variables.  Include appropriate comments.\n",
    "</div>\n",
    "\n",
    "| Variable | Value  | Purpose |\n",
    "| -------- | ------ | ------- |\n",
    "| `facility`      | `'NuclearRepository'` | facility of interest |\n",
    "| `title`     | `'Cumulative Isotope Inventory of Repository'` | title of plot |\n"
   ]
  },
  {
   "cell_type": "code",
   "execution_count": 21,
   "metadata": {},
   "outputs": [
    {
     "data": {
      "image/png": "[encoded data removed]",
      "text/plain": [
       "<Figure size 720x576 with 1 Axes>"
      ]
     },
     "metadata": {},
     "output_type": "display_data"
    }
   ],
   "source": [
    "facility = 'NuclearRepository' # facility of interest\n",
    "title  = 'Cumulative Isotope Inventory of Repository'  # title of plot\n",
    "\n",
    "analysis.plot_in_flux_cumulative(cur, facility,title)"
   ]
  },
  {
   "cell_type": "markdown",
   "metadata": {},
   "source": [
    "Now let's plot the cumulative mass of the spent nuclear fuel that is mined from the Uranium mine.\n",
    "To plot the outflux of a facility, use the analysis.plot_out_flux_cumulative(cur,sender,plot title) function."
   ]
  },
  {
   "cell_type": "code",
   "execution_count": 22,
   "metadata": {},
   "outputs": [
    {
     "data": {
      "image/png": "[encoded data removed]",
      "text/plain": [
       "<Figure size 720x576 with 1 Axes>"
      ]
     },
     "metadata": {},
     "output_type": "display_data"
    }
   ],
   "source": [
    "analysis.plot_out_flux_cumulative(cur, 'UraniumMine','Cumulative Isotope Outflux of Uranium Mine')\n"
   ]
  },
  {
   "cell_type": "code",
   "execution_count": 23,
   "metadata": {},
   "outputs": [
    {
     "data": {
      "image/png": "[encoded data removed]",
      "text/plain": [
       "<Figure size 720x576 with 1 Axes>"
      ]
     },
     "metadata": {},
     "output_type": "display_data"
    }
   ],
   "source": [
    "analysis.plot_out_flux_cumulative(cur, '1178MWe BRAIDWOOD-1','Cumulative Isotope Outflux of 1178MWe BRAIDWOOD-1')"
   ]
  },
  {
   "cell_type": "markdown",
   "metadata": {},
   "source": [
    "Now let's plot the mass series and cumulative mass of the fresh nuclear fuel that is received by the 1178MWe BRAIDWOOD-1."
   ]
  },
  {
   "cell_type": "code",
   "execution_count": 24,
   "metadata": {},
   "outputs": [
    {
     "data": {
      "image/png": "[encoded data removed]",
      "text/plain": [
       "<Figure size 720x576 with 1 Axes>"
      ]
     },
     "metadata": {},
     "output_type": "display_data"
    },
    {
     "data": {
      "image/png": "[encoded data removed]",
      "text/plain": [
       "<Figure size 720x576 with 1 Axes>"
      ]
     },
     "metadata": {},
     "output_type": "display_data"
    }
   ],
   "source": [
    "analysis.plot_in_flux(cur, '1178MWe BRAIDWOOD-1','Isotope Influx of 1178MWe BRAIDWOOD-1')\n",
    "analysis.plot_in_flux_cumulative(cur, '1178MWe BRAIDWOOD-1','Cumulative Isotope Influx of 1178MWe BRAIDWOOD-1')"
   ]
  },
  {
   "cell_type": "markdown",
   "metadata": {},
   "source": [
    "In cyclus, facilities are defined by their `prototype_id`. For example if the simualtion had 20 different reactors, we could still find a certain one via its `prototype_id`.\n",
    "\n",
    "<div class=\"alert alert-info\">\n",
    "**Interactive Input**\n",
    "<br/>\n",
    "In the cell below use type `facility = 'UraniumMine'` and then run the cell.\n",
    "</div>"
   ]
  },
  {
   "cell_type": "code",
   "execution_count": 25,
   "metadata": {},
   "outputs": [
    {
     "name": "stdout",
     "output_type": "stream",
     "text": [
      "The prototype_ids for UraniumMine are:\n"
     ]
    },
    {
     "data": {
      "text/plain": [
       "['25']"
      ]
     },
     "execution_count": 25,
     "metadata": {},
     "output_type": "execute_result"
    }
   ],
   "source": [
    "facility = 'UraniumMine'\n",
    "print('The prototype_ids for' + ' ' + facility + ' ' +'' + 'are:')\n",
    "analysis.prototype_id(cur, facility)"
   ]
  },
  {
   "cell_type": "markdown",
   "metadata": {},
   "source": [
    "We can also find the total amount [kg] of an isotope that was used/sent from a facility using the `total_isotope_used` function.\n",
    "For example, if we wanted to find out how much $^{235}$U and $^{238}$U was mined from the Uranium Mine, we can call:"
   ]
  },
  {
   "cell_type": "code",
   "execution_count": 26,
   "metadata": {},
   "outputs": [
    {
     "name": "stdout",
     "output_type": "stream",
     "text": [
      "Total amount of U-235 mined: 91599.6350365 kg\n",
      "Total amount of U-238 mined: 12791612.0438 kg\n"
     ]
    }
   ],
   "source": [
    "uranium_mined = analysis.total_isotope_used(cur, 'UraniumMine')\n",
    "print(\"Total amount of U-235 mined:\" + ' '  + str(uranium_mined['U235']) + ' ' + 'kg')\n",
    "print(\"Total amount of U-238 mined:\" + ' '  + str(uranium_mined['U238']) + ' ' + 'kg')\n"
   ]
  },
  {
   "cell_type": "markdown",
   "metadata": {},
   "source": [
    "Let's say we wanted to see the composition of the spent nuclear fuel from the reactor. We could call `total_isotope_used` with `facility` = `'1178MWe BRAIDWOOD-1'` to find out!\n",
    "\n",
    "<div class=\"alert alert-info\">\n",
    "**Interactive Input**\n",
    "<br/>\n",
    "Using the table below, create the following variable.  Include appropriate comments.\n",
    "</div>\n",
    "\n",
    "| Variable | Value  | Purpose |\n",
    "| -------- | ------ | ------- |\n",
    "| `facility`      | `'1178MWe BRAIDWOOD-1'` | facility of interest |\n"
   ]
  },
  {
   "cell_type": "code",
   "execution_count": 27,
   "metadata": {},
   "outputs": [
    {
     "data": {
      "text/plain": [
       "Text(0.5,1,'SNF mass composition')"
      ]
     },
     "execution_count": 27,
     "metadata": {},
     "output_type": "execute_result"
    },
    {
     "data": {
      "image/png": "[encoded data removed]",
      "text/plain": [
       "<Figure size 720x576 with 1 Axes>"
      ]
     },
     "metadata": {},
     "output_type": "display_data"
    }
   ],
   "source": [
    "facility = '1178MWe BRAIDWOOD-1' # facility of interest\n",
    "snf_comp = analysis.total_isotope_used(cur, facility)\n",
    "snf_comp\n",
    "isotopes = [item[0] for item in snf_comp.items()]\n",
    "masses = [item[1] for item in snf_comp.items()]\n",
    "plt.bar(isotopes,masses)\n",
    "plt.xlabel('Isotopes')\n",
    "plt.ylabel('Total Mass [kg]')\n",
    "plt.title('SNF mass composition')"
   ]
  },
  {
   "cell_type": "code",
   "execution_count": 28,
   "metadata": {},
   "outputs": [
    {
     "data": {
      "image/png": "[encoded data removed]",
      "text/plain": [
       "<Figure size 720x576 with 1 Axes>"
      ]
     },
     "metadata": {},
     "output_type": "display_data"
    }
   ],
   "source": [
    "analysis.plot_net_flux_cumulative(cur,'1178MWe BRAIDWOOD-1','Net flux')\n"
   ]
  },
  {
   "cell_type": "code",
   "execution_count": 29,
   "metadata": {},
   "outputs": [
    {
     "data": {
      "image/png": "[encoded data removed]",
      "text/plain": [
       "<Figure size 720x576 with 1 Axes>"
      ]
     },
     "metadata": {},
     "output_type": "display_data"
    }
   ],
   "source": [
    "analysis.plot_uranium_utilization(cur)\n"
   ]
  },
  {
   "cell_type": "markdown",
   "metadata": {},
   "source": [
    "## Simulation Time Info"
   ]
  },
  {
   "cell_type": "code",
   "execution_count": 30,
   "metadata": {},
   "outputs": [
    {
     "name": "stdout",
     "output_type": "stream",
     "text": [
      "Start year:2018\n",
      "Start month:1\n",
      "Duration of simulation months:720\n",
      "List of timesteps:[ 0.  1.  2.] . . . [ 716.  717.  718.]\n"
     ]
    }
   ],
   "source": [
    "init_year, init_month, duration, timestep = analysis.simulation_timesteps(cur)\n",
    "print('Start year:' + str(init_year))\n",
    "print('Start month:' + str(init_month))\n",
    "print('Duration of simulation months:' + str(duration))\n",
    "print('List of timesteps:' + str(timestep[0:3]) +' . . . '  +str(timestep[-4:-1]))\n"
   ]
  },
  {
   "cell_type": "code",
   "execution_count": 31,
   "metadata": {},
   "outputs": [
    {
     "name": "stdout",
     "output_type": "stream",
     "text": [
      "Maximum amount of fresh-uox moved: 99000.0\n",
      "Amount of fresh-uox moved at first timestep: 99000.0\n"
     ]
    },
    {
     "data": {
      "text/plain": [
       "Text(0.5,1,'Fresh-uox transaction timeseries')"
      ]
     },
     "execution_count": 31,
     "metadata": {},
     "output_type": "execute_result"
    },
    {
     "data": {
      "image/png": "[encoded data removed]",
      "text/plain": [
       "<Figure size 720x576 with 1 Axes>"
      ]
     },
     "metadata": {},
     "output_type": "display_data"
    }
   ],
   "source": [
    "# prints maximum required sfr fuel throughput per timestep\n",
    "fuel = cur.execute('SELECT time, sum(quantity) FROM transactions '\n",
    "                       'INNER JOIN resources ON resources.resourceid = '\n",
    "                       'transactions.resourceid WHERE commodity = \"fresh-uox\"'\n",
    "                       ' GROUP BY time').fetchall()\n",
    "\n",
    "fresh_uox = np.array(fuel)\n",
    "fuel_transaction = [fuel[1] for fuel in fresh_uox]\n",
    "fuel_timestep = [fuel[0] for fuel in fresh_uox]\n",
    "\n",
    "maximum_fuel_moved = np.amax(np.array(fuel))\n",
    "print('Maximum amount of fresh-uox moved: ' + str(maximum_fuel_moved))\n",
    "\n",
    "first_fuel_transaction = np.array(fuel)[0][1]\n",
    "print('Amount of fresh-uox moved at first timestep: ' +  str(first_fuel_transaction))\n",
    "#print(max(analysis.simulation_timesteps(fuel, duration, True)))\n",
    "\n",
    "plt.plot(fuel_timestep,fuel_transaction)\n",
    "plt.xlabel('Time (months)')\n",
    "plt.ylabel('Mass of Fresh-uox moved (kg)')\n",
    "plt.title('Fresh-uox transaction timeseries')"
   ]
  },
  {
   "cell_type": "code",
   "execution_count": 38,
   "metadata": {},
   "outputs": [
    {
     "data": {
      "image/png": "[encoded data removed]",
      "text/plain": [
       "<IPython.core.display.Image object>"
      ]
     },
     "execution_count": 38,
     "metadata": {},
     "output_type": "execute_result"
    }
   ],
   "source": [
    "fuel_dict = analysis.fuel_usage_timeseries(cur, ['fresh-uox'])\n",
    "fuel_dict\n",
    "analysis.stacked_bar_chart(fuel_dict, timestep,\n",
    "                  'Years', 'Mass[MTHM]',\n",
    "                  'Total Fresh-Uox Fuel Mass vs Time',\n",
    "                  'total_fuel',\n",
    "                  init_year)\n",
    "from IPython.display import Image\n",
    "Image(filename='total_fuel.png')"
   ]
  },
  {
   "cell_type": "code",
   "execution_count": 40,
   "metadata": {},
   "outputs": [
    {
     "data": {
      "image/png": "[encoded data removed]",
      "text/plain": [
       "<IPython.core.display.Image object>"
      ]
     },
     "execution_count": 40,
     "metadata": {},
     "output_type": "execute_result"
    }
   ],
   "source": [
    "# natural uranium demand\n",
    "import collections\n",
    "nat_u = collections.OrderedDict()\n",
    "nat_u['nat_u'] = analysis.nat_u_timeseries(cur)\n",
    "analysis.stacked_bar_chart(nat_u, timestep,\n",
    "                     'Years', 'Natural Uranium Mass',\n",
    "                     'Natural Uranium Demand vs Time',\n",
    "                     'nat_u', init_year)\n",
    "from IPython.display import Image\n",
    "Image(filename='nat_u.png')"
   ]
  },
  {
   "cell_type": "markdown",
   "metadata": {},
   "source": [
    "## Ask: Why is the orange line steeper in slope than the green line?\n",
    "<img src=\"img/nat_u_img.png\" width=\"650\"><br>\n"
   ]
  },
  {
   "cell_type": "markdown",
   "metadata": {},
   "source": [
    "## Decay heat\n",
    "Using our `spent` fuel composition from above, lets see which isotope causes the most decay heat!"
   ]
  },
  {
   "cell_type": "code",
   "execution_count": 32,
   "metadata": {},
   "outputs": [
    {
     "name": "stderr",
     "output_type": "stream",
     "text": [
      "/Users/tyler/anaconda3/lib/python3.6/importlib/_bootstrap.py:219: QAWarning: pyne.data is not yet QA compliant.\n",
      "  return f(*args, **kwds)\n",
      "/Users/tyler/anaconda3/lib/python3.6/importlib/_bootstrap.py:219: QAWarning: pyne.material is not yet QA compliant.\n",
      "  return f(*args, **kwds)\n"
     ]
    },
    {
     "data": {
      "image/png": "[encoded data removed]",
      "text/plain": [
       "<Figure size 720x576 with 1 Axes>"
      ]
     },
     "metadata": {},
     "output_type": "display_data"
    }
   ],
   "source": [
    "from pyne import data\n",
    "from pyne.material import Material\n",
    "\n",
    "data.decay_const('u238')\n",
    "\n",
    "snf = analysis.total_isotope_used(cur,facility='1178MWe BRAIDWOOD-1')\n",
    "snf_mass = np.sum(list(snf.values()))\n",
    "\n",
    "lwr_snf_ma = Material(spent,snf_mass)\n",
    "lwr_snf_ma = Material({'U234': 0.12, \n",
    "                    'U236': 4.18,\n",
    "                    'Np237': 0.75,\n",
    "                    '236Pu': 9.2E-6,\n",
    "                    '238Pu': 0.22,\n",
    "                    '239Pu': 5.28,\n",
    "                    '240Pu': 2.17,\n",
    "                    '241Pu': 1.02,\n",
    "                    '242Pu': 0.35,\n",
    "                    '241Am': 0.05,\n",
    "                    '243Am': 0.09,\n",
    "                    '242Cm': 4.9E-3,\n",
    "                    '244Cm': 3.3E-2},\n",
    "                   1000)\n",
    "\n",
    "#print(snf_ma.comp)\n",
    "#print(lwr_snf_ma.activity())\n",
    "#print(lwr_snf_ma.decay_heat())\n",
    "D=lwr_snf_ma.decay_heat()\n",
    "\n",
    "import matplotlib.pylab as plt\n",
    "plt.bar(range(len(D)), D.values(), align='center')\n",
    "plt.xticks(range(len(D)), D.keys(), rotation='vertical')\n",
    "\n",
    "plt.show()\n",
    "\n"
   ]
  },
  {
   "cell_type": "code",
   "execution_count": 33,
   "metadata": {},
   "outputs": [
    {
     "data": {
      "image/png": "[encoded data removed]",
      "text/plain": [
       "<Figure size 720x576 with 1 Axes>"
      ]
     },
     "metadata": {},
     "output_type": "display_data"
    }
   ],
   "source": [
    "analysis.plot_reactor_events(cur,reactors = [])\n"
   ]
  },
  {
   "cell_type": "code",
   "execution_count": 34,
   "metadata": {},
   "outputs": [
    {
     "data": {
      "image/png": "[encoded data removed]",
      "text/plain": [
       "<IPython.core.display.Image object>"
      ]
     },
     "execution_count": 34,
     "metadata": {},
     "output_type": "execute_result"
    }
   ],
   "source": [
    "analysis.plot_commodity(cur,archetype='Sink',facility_commodity=['spent-uox'],is_outflux=False,is_cum=True)\n",
    "from IPython.display import Image\n",
    "Image(filename='cum_mass_spent-uoxdischarge.png')"
   ]
  },
  {
   "cell_type": "code",
   "execution_count": null,
   "metadata": {},
   "outputs": [],
   "source": []
  }
 ],
 "metadata": {
  "kernelspec": {
   "display_name": "Python 3",
   "language": "python",
   "name": "python3"
  },
  "language_info": {
   "codemirror_mode": {
    "name": "ipython",
    "version": 3
   },
   "file_extension": ".py",
   "mimetype": "text/x-python",
   "name": "python",
   "nbconvert_exporter": "python",
   "pygments_lexer": "ipython3",
   "version": "3.6.5"
  }
 },
 "nbformat": 4,
 "nbformat_minor": 2
}
