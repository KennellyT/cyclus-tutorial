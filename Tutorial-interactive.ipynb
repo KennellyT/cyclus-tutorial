{
 "cells": [
  {
   "cell_type": "markdown",
   "metadata": {},
   "source": [
    "# Tutorial for *CYCLUS*: Nuclear Fuel Cycle Simulator \n",
    "\n",
    "<img src=\"img/cyclus_img.gif\" width=\"400\">\n",
    "\n",
    "[*CYCLUS*](http://fuelcycle.org/) is an open source nuclear fuel cycle simulator. Through the use of agents and its user-customizable archetypes (called prototypes), cyclus  allows for freedom in fidelity, depth, and focus of the simulation.\n",
    "<br><br>\n",
    "This tutorial will begin with a simple exercise using Cycamore archetypes to familiarize the user with creating input files (in xml) and accessing data from the SQLite database output.  This tutorial is not an [exhaustive list](http://fuelcycle.org/user/index.html) of ways to do these things, but it should give new users a good starting point.\n",
    "\n",
    "❖ **Learning Objectives**\n",
    "\n",
    "-   Create a *CYCLUS* input file \n",
    "-   Use *CYCLUS* to simulate your input file\n",
    "-   Utilize cyutils (*CYCLUS* analysis package) to analyze the *CYCLUS* output file"
   ]
  },
  {
   "cell_type": "markdown",
   "metadata": {},
   "source": [
    "# Excerise 1\n",
    "### Developing a *CYCLUS* input file:\n",
    "This first exercise will model a very simple scenario:\n",
    "-  There is a single uranium mine\n",
    "-  One enrichment facility producing UOX fuel\n",
    "-  One LWR, with a 1000 MWe capacity\n",
    "-  One repository, which takes SNF\n",
    "-  This is an open fuel cycle, there is no reprocessing or MOX fuel.\n",
    "<br/><br/>\n",
    "\n",
    "\\begin{gather*} \n",
    "\\textrm{Uranium Mine} \\xrightarrow{\\textrm{Natural Uranium}} \\textrm{Enrichment Facility} \\xrightarrow{\\textrm{Enriched Uranium Fuel}} \\textrm{Reactor} \\xrightarrow{\\textrm{Spent Nuclear Fuel}} \\textrm{Repository}\n",
    "\\end{gather*} "
   ]
  },
  {
   "cell_type": "markdown",
   "metadata": {},
   "source": [
    "<div class=\"alert alert-warning\">\n",
    "**Programming**\n",
    "<br/><br/>\n",
    "Throughout this tutorial, there will be cells of code mixed into the explanations.  Some of these will need information entered before they are run - a comment at the beginning of the cell will tell you.  If you are unfamiliar with Jupyter notebook, you can run a cell by selecting it, and using shift+enter or ctrl+enter (selected cells will have a blue or green line around them).  Please do not run all cells at once.\n",
    "</div>"
   ]
  },
  {
   "cell_type": "markdown",
   "metadata": {},
   "source": [
    "To begin, let's import the necesary packages."
   ]
  },
  {
   "cell_type": "code",
   "execution_count": null,
   "metadata": {},
   "outputs": [],
   "source": [
    "from pyne import nucname\n",
    "import cyutils\n",
    "from cyutils import analysis\n",
    "from cyutils import write\n",
    "from cyutils import economics\n",
    "import matplotlib.pyplot as plt\n",
    "import numpy as np\n",
    "from numpy import isclose"
   ]
  },
  {
   "cell_type": "markdown",
   "metadata": {},
   "source": [
    "### Simulation: Control\n",
    "Let's begin by choosing our simulation parameters.\n",
    "\n",
    "*CYCLUS* works in timesteps of 1 month by default.  At each time step, *CYCLUS* has phases in which each agent can take particular actions:\n",
    "-  [Deployment](http://fuelcycle.org/basics/concepts.html?highlight=deployed#agent-deployment-and-decommissioning): New agents may enter the system\n",
    "-  Each agent prepares for material exchange\n",
    "-  The material trade occurs\n",
    "-  The agents act after the exchange\n",
    "-  [Decommissioning](http://fuelcycle.org/basics/concepts.html?highlight=decommissioned#agent-deployment-and-decommissioning): Agents may leave the system\n",
    "<br><br>\n",
    "\n",
    "\n",
    "*CYCLUS* will manage these phases automatically, but the user must give:\n",
    "-  The duration (in months)\n",
    "-  The start month (e.g.: 1 for January)\n",
    "-  The start year\n",
    "-  [Decay](http://fuelcycle.org/devdoc/decay.html):  'never' if all decay is turned off, 'manual', meaning it is only on if the individual archetype decays their own inventory, or 'lazy', which will compute decay only when archetypes fetch a particular composition.\n",
    "<br>\n",
    "There are other [optional parameters](http://fuelcycle.org/user/input_specs/control.html) that could be given, but these are the ones we will use during the tutorial.\n",
    "<br>\n",
    "\n",
    "For this exercise, the simuation will run for 60 years, or 720 months.  We'll model a system that starts in January, 2018.  Decay will be set to 'never' for now."
   ]
  },
  {
   "cell_type": "markdown",
   "metadata": {},
   "source": [
    "The lifetime of a Cyclus simulation is determined by its **`duration`**. **`duration`** is the number of months cyclus will model the fuel cycle. Cyclus also intakes the **`start_month`** and **`start_year`** of the simulation. \n",
    "The last major parameter of the simulation is whether or not we wish to model the **[`decay`](http://fuelcycle.org/devdoc/decay.html)** of the radioactive elements (uranium ore, nuclear fuel, & spent nuclear fuel) in the simulation. For simplicity, we will not model decay in this tutorial. \n",
    "\n",
    "<div class=\"alert alert-info\">\n",
    "**Interactive Input**\n",
    "<br/>\n",
    "Using the table below, create the following variables.  Include appropriate comments.\n",
    "</div>\n",
    "\n",
    "| Variable | Value  | Purpose |\n",
    "| -------- | ------ | ------- |\n",
    "| `duration`      | `720`  | length of simulation (months) |\n",
    "| `start_month`      | `1` | start month of simulation |\n",
    "| `start_year`     | `2018` | start year of simulation |\n",
    "| `decay`   | `'never'`  | radioactive decay |\n"
   ]
  },
  {
   "cell_type": "code",
   "execution_count": null,
   "metadata": {},
   "outputs": [],
   "source": [
    "'''\n",
    "Initialize all variables given from the table.\n",
    "'''\n",
    "duration    = ??? # length of simulation (months)\n",
    "start_month    = ??? # start month of simulation\n",
    "start_year   = ??? # start year of simulation\n",
    "decay = ??? # radioactive decay\n",
    "\n",
    "simulation_parameters = [duration,start_month,start_year,decay]"
   ]
  },
  {
   "cell_type": "code",
   "execution_count": null,
   "metadata": {},
   "outputs": [],
   "source": [
    "# your code should pass these tests---do NOT edit this cell\n",
    "from numpy import isclose\n",
    "assert type(duration)    == int and duration    == 720\n",
    "assert type(start_month)    == int and start_month    == 1\n",
    "assert type(start_year)   == int   and start_year   == 2018\n",
    "assert type(decay) == str and decay == 'never'\n",
    "print('Success!')"
   ]
  },
  {
   "cell_type": "markdown",
   "metadata": {},
   "source": [
    "### Archetypes:\n",
    "One of the features of *CYCLUS* is its ability to switch between different models of the facilities within the fuel cycle.  These models, called **archetypes**, may change how the facility interacts with other facilities or how the physics of the facility are represented.\n",
    "<br><br>\n",
    "For example, reactor archetypes may change how the reactor experiences fuel burnup and its fresh and spent fuel compostions.  A very simple model might take fixed input and output recipes, and assume all material entering matches its input, and all material exiting matches its output.  A more complex model may tabulate reactor performance and physics parameters, and use interpolation to determine input and output recipes.  The most complex model could perform a full depletion calculation each time new fuel enters the reactor.\n",
    "<br><br>\n",
    "A simple set of archetypes have been created in [Cycamore](http://fuelcycle.org/user/cycamoreagents.html).  They are a good fit for simple tutorials, or for modeling facilities that are required, but not the focus of the simulation.  The Cycamore archetypes include:\n",
    "-  [Source](http://fuelcycle.org/user/cycamoreagents.html?highlight=source#cycamore-source): This is a generic source of fresh material.  This could be an uranium mine, an enrichment facility, or even a fabrication facility, depending on how explicitly the user wants to model the front-end of the fuel cycle.\n",
    "-  [Enrichment](http://fuelcycle.org/user/cycamoreagents.html?highlight=enrichment#cycamore-enrichment): This archetype uses the standard equations for enrichment of U-235, and has a limit on total enrichment capacity.\n",
    "-  [Reactor](http://fuelcycle.org/user/cycamoreagents.html?highlight=reactor#cycamore-reactor): This facility takes set input and output fuel recipes, and loads new assemblies at regular intervals.\n",
    "-  [Separations](http://fuelcycle.org/user/cycamoreagents.html?highlight=separations#cycamore-separations): This facility splits all the isotopes in its input stream into separate output streams.\n",
    "-  [FuelFab](http://fuelcycle.org/user/cycamoreagents.html?highlight=fuelfab#cycamore-fuelfab): This archetype uses the d-factor approach to mix streams of fissile and fissionable material and approximate a given recipe.\n",
    "-  [Sink](http://fuelcycle.org/user/cycamoreagents.html?highlight=sink#cycamore-sink):  This is a generic sink for any facility that will permanently hold nuclear material.  This could be an interim storage facility, a geological repository, or other long-term disposal methods a user may want to model.\n",
    "\n",
    "When you customize or specify the details of an archetype, that is referred to as a **prototype**.\n"
   ]
  },
  {
   "cell_type": "markdown",
   "metadata": {},
   "source": [
    "### Commodities:\n",
    "\n",
    "*CYCLUS* models resource transactions through the use of the [dynamic resource exchange](http://fuelcycle.org/arche/dre.html), or DRE.  A [commodity](http://fuelcycle.org/user/input_specs/commodity.html) simply defines a resource that agents in the simulation may want to exchange with each other  For example, spent fuel would be a commodity that leaves a reactor facility, and then is \"exchanged\" with a repository to simulate its final disposal.  Defining a commodity gives no information about its composition - that is done be defining [recipes](fuelcycle.org/user/input_specs/recipe.html)."
   ]
  },
  {
   "cell_type": "markdown",
   "metadata": {},
   "source": [
    "<div class=\"alert alert-warning\">\n",
    "**A Note On Input Files**\n",
    "<br/>\n",
    "\n",
    "There are multiple ways to create a *CYCLUS* input file.  This tutorial uses the jinja2 template library and .xml templates to create its input.  More detail will be given later, but for now, know that some parts of the archetypes (such as the name of the enrichment facility) are already included in the templates provided for the tutorial.  Beyond this lesson, it is possible to use or create other templates and tweak these \"preloaded\" details. </div>"
   ]
  },
  {
   "cell_type": "markdown",
   "metadata": {},
   "source": [
    "### Creating recipes:\n",
    "\n",
    "Whenever *CYCLUS* needs to know the composition of a material, it looks at the recipe for that material given in the input file.  Until now, \"recipe\" has been used to refer to fuel recipes, but the \"recipe\" section of the input file can include the recipe for natural uranium, spent fuel, fresh fuel, or any other material where the isotopic composition needs to be tracked.\n",
    "<br><br>\n",
    "First, we can declare the isotopic compostions of fresh and spent fuel.  We'll be using simple recipes: fresh fuel is 4.0% U-235 by mass, remainder U-238.  Spent fuel is 1.1% U-235, 94.0% U-238, 0.9% Pu-239, and 4.0% Cs-137.\n",
    "\n",
    "\\begin{gather*} \\textrm{Fresh Nuclear Fuel} \\end{gather*} | \\begin{gather*} \\textrm{Reactor} \\end{gather*}| \\begin{gather*} \\textrm{Spent Nuclear Fuel} \\end{gather*}\n",
    ":-------------------------:|:----:|:-------------------------:\n",
    "<img src=\"img/powder_pellet.jpg\" width=\"150\"> | \\begin{gather*} \\xrightarrow{} \\end{gather*}  |  <img src=\"img/nuclear_waste.jpg\" width=\"150\">\n",
    "<br>\n",
    "\n",
    "\\begin{gather*} \n",
    "\\textrm{Enrichment Facility} \\xrightarrow{\\textrm{4.0% Enriched Uranium}} \\textrm{Reactor} \\xrightarrow{\\textrm{Spent Nuclear Fuel}} \\textrm{Repository}\n",
    "\\end{gather*} \n",
    "<br>\n",
    "\n",
    "\\begin{gather*} \n",
    "\\textrm{Fresh Fuel Compostition}\n",
    "\\end{gather*} \n",
    "\n",
    "| Nuclide | Mass composition |\n",
    "| ------- | --------- |\n",
    "| $^{235}$U | 4.0 % |\n",
    "| $^{238}$U | 96.0 % |\n",
    "\n",
    "\\begin{gather*} \n",
    "\\textrm{Spent Fuel Compostition}\n",
    "\\end{gather*} \n",
    "\n",
    "| Nuclide | Mass composition |\n",
    "| ------- | --------- |\n",
    "| $^{239}$Pu | 0.9% |\n",
    "| $^{235}$U | 1.1% % |\n",
    "| $^{137}$Cs | 4.0% |\n",
    "| $^{238}$U | 94.0 % |\n",
    "\n"
   ]
  },
  {
   "cell_type": "code",
   "execution_count": 1,
   "metadata": {},
   "outputs": [],
   "source": [
    "fresh_id = [92235,92238]\n",
    "fresh_comp = [0.04, 0.96]\n",
    "\n",
    "spent_id = [92235, 92238, 94239, 55137]\n",
    "spent_comp = [0.011, 0.94, 0.009, 0.04]"
   ]
  },
  {
   "cell_type": "markdown",
   "metadata": {},
   "source": [
    "We will take the fresh and spent ids and compostitions above and use the recipe function to create a fuel recipe. \n"
   ]
  },
  {
   "cell_type": "code",
   "execution_count": null,
   "metadata": {},
   "outputs": [],
   "source": [
    "fresh,spent = write.recipe(fresh_id,fresh_comp,spent_id,spent_comp)\n",
    "print(fresh)\n",
    "print(spent)"
   ]
  },
  {
   "cell_type": "markdown",
   "metadata": {},
   "source": [
    "<div class=\"alert alert-warning\">\n",
    "**Fuel Recipe Note**\n",
    "<br/>\n",
    "The recipe for natural uranium has already been included in the template.\n",
    "</div>\n"
   ]
  },
  {
   "cell_type": "markdown",
   "metadata": {},
   "source": [
    "<div class=\"alert alert-warning\">\n",
    "**Providing Reactor Data Recipe Note**\n",
    "<br/>\n",
    "<font size='2'>Note: For the purposes of the tutorial, we'll input reactor information here in the notebook, then render it into a csv file and import it again.  Obviously, this isn't needed - we could directly input our reactor data and never bother with external files.  However, we're including this step to help new users who may be unfamiliar with python with one of many ways to import external data.</font>\n",
    "</div>\n",
    "<br>\n",
    "\n",
    "Exercise 1 models a single PWR.  It has a power capacity of 1000 MWe, and there is only one of them in the region.  Using the table below, fill in the missing information.\n",
    "\n",
    "<div class=\"alert alert-info\">\n",
    "**Interactive Input**\n",
    "<br/>\n",
    "Using the table below, create the following variables.  Include appropriate comments.\n",
    "</div>\n",
    "\n",
    "| Variable | Value  | Purpose |\n",
    "| -------- | ------ | ------- |\n",
    "| `country`      | `'The Beehive'`  | country of reactor |\n",
    "| `reactor_name`      | `'Honeycomb3000'` | name of reactor |\n",
    "| `type_reactor`     | `'PWR'` | type of reactor |\n",
    "| `net_elec_capacity`   | `1000`  | net electric capacity (MWe) |\n",
    "| `operator`   | `'SeveralBees'`  | operator of reactor |\n",
    "\n",
    "\n"
   ]
  },
  {
   "cell_type": "code",
   "execution_count": 1,
   "metadata": {},
   "outputs": [
    {
     "ename": "SyntaxError",
     "evalue": "invalid syntax (<ipython-input-1-60700dee15b3>, line 4)",
     "output_type": "error",
     "traceback": [
      "\u001b[0;36m  File \u001b[0;32m\"<ipython-input-1-60700dee15b3>\"\u001b[0;36m, line \u001b[0;32m4\u001b[0m\n\u001b[0;31m    country = ??? # country of reactor\u001b[0m\n\u001b[0m              ^\u001b[0m\n\u001b[0;31mSyntaxError\u001b[0m\u001b[0;31m:\u001b[0m invalid syntax\n"
     ]
    }
   ],
   "source": [
    "'''\n",
    "Initialize all variables given from the table.\n",
    "'''\n",
    "country = ??? # country of reactor\n",
    "reactor_name = ??? # name of reactor\n",
    "type_reactor = ??? # type of reactor\n",
    "net_elec_capacity = ??? #net electric capacity (MWe)\n",
    "operator = ??? #operator of reactor"
   ]
  },
  {
   "cell_type": "code",
   "execution_count": null,
   "metadata": {},
   "outputs": [],
   "source": [
    "# your code should pass these tests---do NOT edit this cell\n",
    "assert type(country)    == str and country    == 'The Beehive'\n",
    "assert type(reactor_name)    == str and reactor_name    == 'Honeycomb3000'\n",
    "assert type(type_reactor)   == str   and type_reactor   == 'PWR'\n",
    "assert type(net_elec_capacity) == int and net_elec_capacity == 1000\n",
    "assert type(operator) == str and operator == 'SeveralBees'\n",
    "\n",
    "print('Success!')"
   ]
  },
  {
   "cell_type": "markdown",
   "metadata": {},
   "source": [
    "Now using analysis.write, we will write this data into a csv file called \"tutorial_data.csv\"."
   ]
  },
  {
   "cell_type": "code",
   "execution_count": null,
   "metadata": {},
   "outputs": [],
   "source": [
    "header = ['Country','Reactor Name','Type','Net Electric Capacity','Operator'] # this is the header of our csv file\n",
    "raw_input = [country,reactor_name,type_reactor,net_elec_capacity,operator] # this is the data we will be inserting into the csv file\n",
    "filename = \"tutorial_data.csv\" # this is the filename of the csv file \n",
    "\n",
    "write.write_csv(header,raw_input, filename)"
   ]
  },
  {
   "cell_type": "markdown",
   "metadata": {},
   "source": [
    "Within the reactor data, we gave how many reactors were initially deployed.  However, we still need to set how many mines, enrichment facilities, and repositories are in our region.  For now, we'll say that there is one of each facility in our region.\n",
    "\n",
    "<div class=\"alert alert-info\">\n",
    "**Interactive Input**\n",
    "<br/>\n",
    "Using the table below, create the following variables.  Include appropriate comments.\n",
    "</div>\n",
    "\n",
    "| Variable | Value  | Purpose |\n",
    "| -------- | ------ | ------- |\n",
    "| `n_mine`      | 1  | number of mines |\n",
    "| `n_enrichment`      | 1 | number of enrichment facilities |\n",
    "| `n_repository`     | 1 | number of repositories |\n"
   ]
  },
  {
   "cell_type": "code",
   "execution_count": null,
   "metadata": {},
   "outputs": [],
   "source": [
    "n_mine = ??? # number of mines\n",
    "n_enrichment = ??? # number of enrichment facilities\n",
    "n_repository = ??? #number of repositories\n"
   ]
  },
  {
   "cell_type": "code",
   "execution_count": null,
   "metadata": {},
   "outputs": [],
   "source": [
    "# your code should pass these tests---do NOT edit this cell\n",
    "assert type(n_mine)    == int and n_mine    == 1\n",
    "assert type(n_enrichment)    == int and n_enrichment    == 1\n",
    "assert type(n_repository)   == int   and n_repository   == 1\n",
    "\n",
    "print('Success!')"
   ]
  },
  {
   "cell_type": "markdown",
   "metadata": {},
   "source": [
    "### Rendering the Input File:\n",
    "\n",
    "In practice, your simulation may have more variables, and you may be pulling data from external databases.  But, for this tutorial, we are ready to render the main input file for *CYCLUS*. <br>First, we'll import our \"external data\"  from a csv file with the information we gave earlier:"
   ]
  },
  {
   "cell_type": "code",
   "execution_count": null,
   "metadata": {},
   "outputs": [],
   "source": [
    "# This cell does not need user input, and you can run it now.\n",
    "\n",
    "reactor_data = write.import_csv('test_data.csv')"
   ]
  },
  {
   "cell_type": "code",
   "execution_count": null,
   "metadata": {
    "scrolled": true
   },
   "outputs": [],
   "source": [
    "deployment_data = {}\n",
    "for element in reactor_data.loc[:,'Country'].drop_duplicates():\n",
    "    deployment_data[element] = [n_mine,n_enrichment,n_repository]\n",
    "        \n",
    "print(deployment_data)"
   ]
  },
  {
   "cell_type": "markdown",
   "metadata": {},
   "source": [
    "The input file is created in parts - it is common to have separate, smaller templates for the reactor, the recipes, and other blocks of the input file that require many variables.\n",
    "<br><br>\n",
    "Templates have been mentioned before this point, but haven't been shown.  Let's start by taking a look at the reactor template.\n",
    "#### Reactor Template"
   ]
  },
  {
   "cell_type": "code",
   "execution_count": null,
   "metadata": {},
   "outputs": [],
   "source": [
    "with open('template/reactor_template.xml','r') as reactor:\n",
    "    print(reactor.read())"
   ]
  },
  {
   "cell_type": "markdown",
   "metadata": {},
   "source": [
    "The facility tree holds all the information about a specific prototype. There are facility blocks for each prototype made - the mine, the enrichment facility, and repository all have their own section within the main input, as well as sections for setting simulation parameters, and defining archetypes and commodities.\n",
    "<br><br>\n",
    "You may notice that some values had been replaced by something in {{ }}.  The template will recognize these as variables.  We can also take a look at the region, recipe, and main templates.\n",
    "#### Region Template"
   ]
  },
  {
   "cell_type": "code",
   "execution_count": null,
   "metadata": {},
   "outputs": [],
   "source": [
    "with open('template/region_template.xml','r') as region:\n",
    "    print(region.read())"
   ]
  },
  {
   "cell_type": "markdown",
   "metadata": {},
   "source": [
    "Within the region and recipe template, you will see `{% for x,y in z.items() -%} ... {% endfor -%}`.  These are for loops, and work similarly to for loops in other languages.  For each element in x,y (note that in both templates, we might more accurately say that the loops are {% for key, value in dicitionary.items() -%}, as in this specific instance, the input-rendering functions use dictionaries.) it copies whatever is between the {%-%} {% -%} brackets, and fills in the variables in the designated locations.\n",
    "#### Recipe Template"
   ]
  },
  {
   "cell_type": "code",
   "execution_count": null,
   "metadata": {},
   "outputs": [],
   "source": [
    "with open('template/recipe_template.xml','r') as recipe:\n",
    "    print(recipe.read())"
   ]
  },
  {
   "cell_type": "markdown",
   "metadata": {},
   "source": [
    "### Writing the fuel recipe\n",
    "\n",
    "For example, in the recipe template above, the for loop in the fresh fuel recipe block will make a new nuclide block for each isotope in the fresh_fuel dicitionary.  To see this in action, we can simply render the recipe portion:"
   ]
  },
  {
   "cell_type": "code",
   "execution_count": null,
   "metadata": {},
   "outputs": [],
   "source": [
    "rendered_recipe = write.write_recipes(fresh,spent,'template/recipe_template.xml','1xn-rendered-recipe.xml')\n",
    "\n",
    "with open(rendered_recipe,'r') as recipe:\n",
    "    print(recipe.read())"
   ]
  },
  {
   "cell_type": "markdown",
   "metadata": {},
   "source": [
    "As you can see, within the fresh fuel recipe there are now two nuclide blocks, one for each isotope in the fresh dictionary we made earlier.<br><br>\n",
    "#### Main input Template\n",
    "We can also look at the main input template.  In order to insert the already rendered parts into the main input file, it has {{variable}} sections where each section would go.  Then, in a fashion simiar to how the templates have been opened here in the notebook, the files are assigned to variables and inserted into the template."
   ]
  },
  {
   "cell_type": "code",
   "execution_count": null,
   "metadata": {},
   "outputs": [],
   "source": [
    "with open('template/main_input.xml','r') as main:\n",
    "    print(main.read())"
   ]
  },
  {
   "cell_type": "markdown",
   "metadata": {},
   "source": [
    "### Creating the Input File\n",
    "Now, let's actually create the input file.  The recipe portion was made earlier, so the only the reactor, region, and main input remains.\n",
    "### Writing the reactor template"
   ]
  },
  {
   "cell_type": "code",
   "execution_count": null,
   "metadata": {},
   "outputs": [],
   "source": [
    "rendered_reactor = write.write_reactor(reactor_data, 'template/reactor_template.xml','template/1xn-rendered-reactor.xml')\n",
    "with open(rendered_reactor,'r') as reactor:\n",
    "    print(reactor.read())"
   ]
  },
  {
   "cell_type": "markdown",
   "metadata": {},
   "source": [
    "### Writing the region recipe\n"
   ]
  },
  {
   "cell_type": "code",
   "execution_count": null,
   "metadata": {},
   "outputs": [],
   "source": [
    "rendered_region = write.write_region(reactor_data,deployment_data,'template/region_template.xml','template/1xn-rendered-region.xml')\n",
    "with open(rendered_region,'r') as region:\n",
    "    print(region.read())"
   ]
  },
  {
   "cell_type": "markdown",
   "metadata": {},
   "source": [
    "### Writing the main input\n"
   ]
  },
  {
   "cell_type": "code",
   "execution_count": null,
   "metadata": {},
   "outputs": [],
   "source": [
    "write.write_main_input(simulation_parameters,rendered_reactor,rendered_region,rendered_recipe,\n",
    "                 'main_input.xml','1xn-rendered-main-input.xml')\n",
    "with open('1xn-rendered-main-input.xml','r') as maininput:\n",
    "    print(maininput.read())"
   ]
  },
  {
   "cell_type": "markdown",
   "metadata": {},
   "source": [
    "It is possible to change some of the variables in this input file to suit user preference.  However, certain names used in one scetion must match the names used in others.  For reference, an image of an input file has been included below, with the parts that must match each other highlighted in matching colors.\n",
    "<br><br>\n",
    "<img src=\"img/colorcodet1.png\" width=\"600\">\n",
    "<img src=\"img/colorcodet2.png\" width=\"600\">\n",
    "<img src=\"img/colorcodet3.png\" width=\"600\">\n",
    "<img src=\"img/colorcodet4.png\" width=\"600\">\n",
    "<img src=\"img/colorcodet5.png\" width=\"600\">\n",
    "<img src=\"img/colorcodet6.png\" width=\"600\">"
   ]
  },
  {
   "cell_type": "markdown",
   "metadata": {},
   "source": [
    "# Excerise 2\n",
    "### Running the Simulation:\n",
    "*CYCLUS* can be run using a single terminal command, given below.  The cell will run this command for you, but it's also possible to remove the ! and directly run it in the terminal"
   ]
  },
  {
   "cell_type": "code",
   "execution_count": null,
   "metadata": {},
   "outputs": [],
   "source": [
    "# CYCLUS will not overwrite an old file - delete the old version if you run a simulation again and put\n",
    "# the output to the same filename\n",
    "#!rm singlereactortutorial.sqlite\n",
    "#!cyclus 1xn-rendered-main-input.xml -o singlereactortutorial.sqlite\n",
    "# this is a command that can be executed in your terminal, without the ! . The -o flag is used to\n",
    "# set the name of the output file.  Without it, the default is \"cyclus.sqlite\""
   ]
  },
  {
   "cell_type": "markdown",
   "metadata": {},
   "source": [
    "# Excerise 3\n",
    "### Analyze the results:\n",
    "\n",
    "*CYCLUS* creates a .sqlite file as its output.  SQL is a database file type that consists of a series of tables.  A few functions have been included in cyutils.analysis.py to pull information from the sqlite database and create figures.<br><br>\n",
    "An sqlite database can be opened and its contents viewed, but these database browsers often aren't as helpful as importing the data into an external function and manipulating it with there would be.  However, it can still be helpful to open and view the tables.\n",
    "<img src=\"img/Selection_002.png\" width=\"650\"><br><br>\n",
    "This a view of the tables within the database (using DB browser for SQLite).  However, to view the data within these tables, switch to the Browse Data tab:<br>\n",
    "<img src=\"img/Selection_003.png\" width=\"650\"><br>\n",
    "And select the table of interest.  Some tables have data that may need to be manipulated or used alongside other data in other tables, which is why using a python script is often ideal."
   ]
  },
  {
   "cell_type": "markdown",
   "metadata": {},
   "source": [
    "First, a cursor that points to the sqlite file is created:"
   ]
  },
  {
   "cell_type": "code",
   "execution_count": null,
   "metadata": {},
   "outputs": [],
   "source": [
    "cur = analysis.cursor('singlereactortutorial.sqlite')"
   ]
  },
  {
   "cell_type": "markdown",
   "metadata": {},
   "source": [
    "Now, let's plot the total mass of spent nuclear fuel stored at the Nuclear Waste Repository.\n",
    "To plot, use the `analysis.plot_in_flux_cumulative(cur, facility, title)` function. \n",
    "<div class=\"alert alert-info\">\n",
    "**Interactive Input**\n",
    "<br/>\n",
    "Using the table below, create the following variables.  Include appropriate comments.\n",
    "</div>\n",
    "\n",
    "| Variable | Value  | Purpose |\n",
    "| -------- | ------ | ------- |\n",
    "| `facility`      | `'NuclearRepository'` | facility of interest |\n",
    "| `title`     | `'Cumulative Isotope Inventory of Repository'` | title of plot |\n"
   ]
  },
  {
   "cell_type": "code",
   "execution_count": null,
   "metadata": {},
   "outputs": [],
   "source": [
    "facility = ??? # facility of interest\n",
    "title  = ???  # title of plot\n",
    "\n",
    "\n",
    "analysis.plot_in_flux_cumulative(cur, facility,title)"
   ]
  },
  {
   "cell_type": "markdown",
   "metadata": {},
   "source": [
    "Now let's plot the cumulative mass of the spent nuclear fuel that is mined from the Uranium mine\n",
    "To plot the outflux of a facility, use the analysis.plot_out_flux_cumulative(cur,sender,plot title) function."
   ]
  },
  {
   "cell_type": "code",
   "execution_count": null,
   "metadata": {},
   "outputs": [],
   "source": [
    "analysis.plot_out_flux_cumulative(cur, 'UraniumMine','Cumulative Isotope Outflux of Uranium Mine')\n"
   ]
  },
  {
   "cell_type": "markdown",
   "metadata": {},
   "source": [
    "Now let's plot the cumulative mass of the spent nuclear fuel that is taken out of the 1000MWe Honeycomb3000.\n",
    "Again, let's use the handy analysis.plot_out_flux_cumulative(cur,sender,plot title) function!"
   ]
  },
  {
   "cell_type": "code",
   "execution_count": null,
   "metadata": {},
   "outputs": [],
   "source": [
    "analysis.plot_out_flux_cumulative(cur, '1000MWe Honeycomb3000','Cumulative Isotope Outflux of 1000MWe Honeycomb3000')"
   ]
  },
  {
   "cell_type": "markdown",
   "metadata": {},
   "source": [
    "Now let's plot the mass series and cumulative mass of the fresh nuclear fuel that is received by the of the 1000MWe Honeycomb3000."
   ]
  },
  {
   "cell_type": "code",
   "execution_count": null,
   "metadata": {},
   "outputs": [],
   "source": [
    "analysis.plot_in_flux_basic(cur, '1000MWe Honeycomb3000','Isotope Influx of 1000MWe Honeycomb3000')\n",
    "analysis.plot_in_flux_cumulative(cur, '1000MWe Honeycomb3000','Cumulative Isotope Outflux of 1000MWe Honeycomb3000')"
   ]
  },
  {
   "cell_type": "markdown",
   "metadata": {},
   "source": [
    "In cyclus, facilities are defined by their `prototype_id`. For example if the simualtion had 20 Honeycomb3000 reactors, we could still find a certain one via its `prototype_id`.\n",
    "\n",
    "<div class=\"alert alert-info\">\n",
    "**Interactive Input**\n",
    "<br/>\n",
    "In the cell below use type `facility = 'UraniumMine'` and then run the cell.\n",
    "</div>"
   ]
  },
  {
   "cell_type": "code",
   "execution_count": null,
   "metadata": {},
   "outputs": [],
   "source": [
    "facility = ???\n",
    "print('The prototype_ids for' + ' ' + facility + ' ' +'' + 'are:')\n",
    "analysis.prototype_id(cur, facility)"
   ]
  },
  {
   "cell_type": "markdown",
   "metadata": {},
   "source": [
    "We can also find the total amount [kg] of an isotope that was used/sent from a facility using the `total_isotope_used` function.\n",
    "For example, if we wanted to find out how much $^{235}$U and $^{238}$U was mined from the Uranium Mine, we can call:"
   ]
  },
  {
   "cell_type": "code",
   "execution_count": null,
   "metadata": {},
   "outputs": [],
   "source": [
    "uranium_mined = analysis.total_isotope_used(cur, 'UraniumMine')\n",
    "print(\"Total amount of U-235 mined:\" + ' '  + str(uranium_mined['U235']) + ' ' + 'kg')\n",
    "print(\"Total amount of U-238 mined:\" + ' '  + str(uranium_mined['U238']) + ' ' + 'kg')\n"
   ]
  },
  {
   "cell_type": "markdown",
   "metadata": {},
   "source": [
    "Let's say we wanted to see the composition of the spent nuclear fuel from the reactor. We could call `total_isotope_used` with `facility` = `'1000MWe Honeycomb3000'` to find out!\n",
    "\n",
    "<div class=\"alert alert-info\">\n",
    "**Interactive Input**\n",
    "<br/>\n",
    "Using the table below, create the following variable.  Include appropriate comments.\n",
    "</div>\n",
    "\n",
    "| Variable | Value  | Purpose |\n",
    "| -------- | ------ | ------- |\n",
    "| `facility`      | `'1000MWe Honeycomb3000'` | facility of interest |\n"
   ]
  },
  {
   "cell_type": "code",
   "execution_count": null,
   "metadata": {},
   "outputs": [],
   "source": [
    "facility = ??? # facility of interest\n",
    "snf_comp = analysis.total_isotope_used(cur, facility)\n",
    "snf_comp\n",
    "isotopes = [item[0] for item in snf_comp.items()]\n",
    "masses = [item[1] for item in snf_comp.items()]\n",
    "plt.bar(isotopes,masses)\n",
    "plt.xlabel('Isotopes')\n",
    "plt.ylabel('Total Mass [kg]')\n",
    "plt.title('SNF mass composition')"
   ]
  },
  {
   "cell_type": "code",
   "execution_count": null,
   "metadata": {},
   "outputs": [],
   "source": [
    "analysis.plot_net_flux_cumulative(cur,'1000MWe Honeycomb3000','Net flux')\n"
   ]
  },
  {
   "cell_type": "code",
   "execution_count": null,
   "metadata": {},
   "outputs": [],
   "source": [
    "analysis.u_util_calc(cur)"
   ]
  },
  {
   "cell_type": "code",
   "execution_count": null,
   "metadata": {},
   "outputs": [],
   "source": [
    "analysis.plot_uranium_utilization(cur)\n"
   ]
  },
  {
   "cell_type": "markdown",
   "metadata": {},
   "source": [
    "#### Total mass traded\n",
    "\n",
    "How much $^{235}$U left the 1000MWe Honeycomb3000?\n",
    "To find out, lets use the `total_isotope_traded` function!\n",
    "The `total_isotope_traded` takes three input arguments\n",
    "- cur (cursor to *CYCLUS* output file)\n",
    "- facility (facility of interest)\n",
    "- flux (direction of isotope transaction)\n",
    "- nucid (nuclide id)\n",
    "\n",
    "<div class=\"alert alert-info\">\n",
    "**Interactive Input**\n",
    "<br/>\n",
    "Using the table below, create the following variables.  Include appropriate comments.\n",
    "</div>\n",
    "\n",
    "| Variable | Value  | Purpose |\n",
    "| -------- | ------ | ------- |\n",
    "| `cur`      | `cur` | cursor to *CYCLUS* output file |\n",
    "| `facility`      | `'1000MWe Honeycomb3000'` | facility of interest |\n",
    "| `flux`      | `'out'` | isotope transaction direction |\n",
    "| `nucid`      | `922350000` | nuclide id |\n"
   ]
  },
  {
   "cell_type": "code",
   "execution_count": null,
   "metadata": {},
   "outputs": [],
   "source": [
    "cur = ??? #cursor to CYCLUS output file\n",
    "facility = ??? # facility of interest\n",
    "flux = ??? # isotope transaction direction\n",
    "nucid = ??? # nuclide id \n",
    "print('Total amount of U235 that left the '+ str(facility) +' reactor:')  \n",
    "analysis.total_isotope_traded(cur,facility,flux,nucid)"
   ]
  },
  {
   "cell_type": "markdown",
   "metadata": {},
   "source": [
    "## Proliferation \n",
    "### Significant Quantities\n",
    "[Significant quantities](https://www.iaea.org/sites/default/files/iaea_safeguards_glossary.pdf) of nuclear material \n",
    "\n",
    "\n",
    "\\begin{gather*} \n",
    "\\textrm{Direct use Nuclear Material}\n",
    "\\end{gather*} \n",
    "\n",
    "| Material | SQ |\n",
    "| ------- | --------- |\n",
    "| Pu$^{a}$ | 8 kg Pu |\n",
    "| $^{233}$U | 8 kg $^{233}$U  |\n",
    "| HEU ($^{235}$U $\\geq$ 20%)| 25 kg $^{235}$U  |\n",
    "\n",
    "\n",
    "\n",
    "\\begin{gather*} \n",
    "\\textrm{Indirect use Nuclear Material}\n",
    "\\end{gather*}  \n",
    "\n",
    "| Material | SQ |\n",
    "| ------- | --------- |\n",
    "| U ($^{235}$U < 20%)$^{b}$| 75 kg $^{235}$U |\n",
    "| Natural Uranium | 10 t |\n",
    "| Depleted U | 20 t |\n",
    "| Th | 20 t |\n",
    "<font size='2'>\n",
    "\\begin{gather*} \n",
    "\\textrm{$^{a}$ For Pu containing less than 80% $^{238}$Pu.}\n",
    "\\end{gather*} \n",
    "\n",
    "\\begin{gather*} \n",
    "\\textrm{$^{b}$ Including low enriched, natural and depleted uranium.}\n",
    "\\end{gather*} \n"
   ]
  },
  {
   "cell_type": "markdown",
   "metadata": {},
   "source": [
    "## Decay heat\n",
    "Using our `spent` fuel composition from above, lets see which isotope causes the most decay heat!"
   ]
  },
  {
   "cell_type": "code",
   "execution_count": 2,
   "metadata": {},
   "outputs": [
    {
     "name": "stderr",
     "output_type": "stream",
     "text": [
      "/Users/tyler/anaconda3/lib/python3.6/importlib/_bootstrap.py:219: QAWarning: pyne.data is not yet QA compliant.\n",
      "  return f(*args, **kwds)\n",
      "/Users/tyler/anaconda3/lib/python3.6/importlib/_bootstrap.py:219: QAWarning: pyne.material is not yet QA compliant.\n",
      "  return f(*args, **kwds)\n"
     ]
    },
    {
     "ename": "NameError",
     "evalue": "name 'analysis' is not defined",
     "output_type": "error",
     "traceback": [
      "\u001b[0;31m---------------------------------------------------------------------------\u001b[0m",
      "\u001b[0;31mNameError\u001b[0m                                 Traceback (most recent call last)",
      "\u001b[0;32m<ipython-input-2-ca015ee7db83>\u001b[0m in \u001b[0;36m<module>\u001b[0;34m()\u001b[0m\n\u001b[1;32m      4\u001b[0m \u001b[0mdata\u001b[0m\u001b[0;34m.\u001b[0m\u001b[0mdecay_const\u001b[0m\u001b[0;34m(\u001b[0m\u001b[0;34m'u238'\u001b[0m\u001b[0;34m)\u001b[0m\u001b[0;34m\u001b[0m\u001b[0m\n\u001b[1;32m      5\u001b[0m \u001b[0;34m\u001b[0m\u001b[0m\n\u001b[0;32m----> 6\u001b[0;31m \u001b[0msnf\u001b[0m \u001b[0;34m=\u001b[0m \u001b[0manalysis\u001b[0m\u001b[0;34m.\u001b[0m\u001b[0mtotal_isotope_used\u001b[0m\u001b[0;34m(\u001b[0m\u001b[0mcur\u001b[0m\u001b[0;34m,\u001b[0m\u001b[0mfacility\u001b[0m\u001b[0;34m=\u001b[0m\u001b[0;34m'1000MWe Honeycomb3000'\u001b[0m\u001b[0;34m)\u001b[0m\u001b[0;34m\u001b[0m\u001b[0m\n\u001b[0m\u001b[1;32m      7\u001b[0m \u001b[0msnf_mass\u001b[0m \u001b[0;34m=\u001b[0m \u001b[0mnp\u001b[0m\u001b[0;34m.\u001b[0m\u001b[0msum\u001b[0m\u001b[0;34m(\u001b[0m\u001b[0mlist\u001b[0m\u001b[0;34m(\u001b[0m\u001b[0msnf\u001b[0m\u001b[0;34m.\u001b[0m\u001b[0mvalues\u001b[0m\u001b[0;34m(\u001b[0m\u001b[0;34m)\u001b[0m\u001b[0;34m)\u001b[0m\u001b[0;34m)\u001b[0m\u001b[0;34m\u001b[0m\u001b[0m\n\u001b[1;32m      8\u001b[0m \u001b[0;34m\u001b[0m\u001b[0m\n",
      "\u001b[0;31mNameError\u001b[0m: name 'analysis' is not defined"
     ]
    }
   ],
   "source": [
    "from pyne import data\n",
    "from pyne.material import Material\n",
    "\n",
    "data.decay_const('u238')\n",
    "\n",
    "snf = analysis.total_isotope_used(cur,facility='1000MWe Honeycomb3000')\n",
    "snf_mass = np.sum(list(snf.values()))\n",
    "\n",
    "lwr_snf_ma = Material(spent,snf_mass)\n",
    "lwr_snf_ma = Material({'U234': 0.12, \n",
    "                    'U236': 4.18,\n",
    "                    'Np237': 0.75,\n",
    "                    '236Pu': 9.2E-6,\n",
    "                    '238Pu': 0.22,\n",
    "                    '239Pu': 5.28,\n",
    "                    '240Pu': 2.17,\n",
    "                    '241Pu': 1.02,\n",
    "                    '242Pu': 0.35,\n",
    "                    '241Am': 0.05,\n",
    "                    '243Am': 0.09,\n",
    "                    '242Cm': 4.9E-3,\n",
    "                    '244Cm': 3.3E-2},\n",
    "                   1000)\n",
    "\n",
    "#print(snf_ma.comp)\n",
    "#print(lwr_snf_ma.activity())\n",
    "#print(lwr_snf_ma.decay_heat())\n",
    "D=lwr_snf_ma.decay_heat()\n",
    "d = snf_ma.decay_heat()\n",
    "print(d)\n",
    "import matplotlib.pylab as plt\n",
    "plt.bar(range(len(D)), D.values(), align='center')\n",
    "plt.xticks(range(len(D)), D.keys(), rotation='vertical')\n",
    "\n",
    "plt.show()\n",
    "\n"
   ]
  },
  {
   "cell_type": "code",
   "execution_count": null,
   "metadata": {},
   "outputs": [],
   "source": []
  }
 ],
 "metadata": {
  "kernelspec": {
   "display_name": "Python 3",
   "language": "python",
   "name": "python3"
  },
  "language_info": {
   "codemirror_mode": {
    "name": "ipython",
    "version": 3
   },
   "file_extension": ".py",
   "mimetype": "text/x-python",
   "name": "python",
   "nbconvert_exporter": "python",
   "pygments_lexer": "ipython3",
   "version": "3.6.5"
  }
 },
 "nbformat": 4,
 "nbformat_minor": 2
}
